{
 "cells": [
  {
   "cell_type": "markdown",
   "metadata": {},
   "source": [
    "In this post, I am going to use pandas and some other python tools to explore a dataset. There is no particular goal but to just see what interesting things I can understand from the data sets that we have at hand. I am going to keep updating this post as I find new and interesting tricks of python to explore data."
   ]
  },
  {
   "cell_type": "code",
   "execution_count": 54,
   "metadata": {
    "collapsed": false
   },
   "outputs": [],
   "source": [
    "import pandas as pd #the pandas library\n",
    "import matplotlib.pyplot as plt #matplotlib for visualization\n",
    "import numpy as np #numpy for doing some mathematical stuff\n",
    "\n",
    "%matplotlib inline \n",
    "#to ensure plots are displayed within each cell"
   ]
  },
  {
   "cell_type": "code",
   "execution_count": 55,
   "metadata": {
    "collapsed": true
   },
   "outputs": [],
   "source": [
    "#reading in the two datasets using read_csv\n",
    "trips = pd.read_csv('201608_trip_data.csv')\n",
    "weather = pd.read_csv('201608_weather_data.csv')"
   ]
  },
  {
   "cell_type": "code",
   "execution_count": 56,
   "metadata": {
    "collapsed": false
   },
   "outputs": [
    {
     "name": "stdout",
     "output_type": "stream",
     "text": [
      "<class 'pandas.core.frame.DataFrame'>\n",
      "RangeIndex: 313689 entries, 0 to 313688\n",
      "Data columns (total 11 columns):\n",
      "Trip ID            313689 non-null int64\n",
      "Duration           313689 non-null int64\n",
      "Start Date         313689 non-null object\n",
      "Start Station      313689 non-null object\n",
      "Start Terminal     313689 non-null int64\n",
      "End Date           313689 non-null object\n",
      "End Station        313689 non-null object\n",
      "End Terminal       313689 non-null int64\n",
      "Bike #             313689 non-null int64\n",
      "Subscriber Type    313689 non-null object\n",
      "Zip Code           313498 non-null object\n",
      "dtypes: int64(5), object(6)\n",
      "memory usage: 26.3+ MB\n"
     ]
    }
   ],
   "source": [
    "#to get an overview of the datasets\n",
    "trips.info()"
   ]
  },
  {
   "cell_type": "code",
   "execution_count": 81,
   "metadata": {
    "collapsed": false
   },
   "outputs": [
    {
     "data": {
      "text/html": [
       "<div>\n",
       "<table border=\"1\" class=\"dataframe\">\n",
       "  <thead>\n",
       "    <tr style=\"text-align: right;\">\n",
       "      <th></th>\n",
       "      <th>Trip ID</th>\n",
       "      <th>Duration</th>\n",
       "      <th>Start Terminal</th>\n",
       "      <th>End Terminal</th>\n",
       "      <th>Bike #</th>\n",
       "    </tr>\n",
       "  </thead>\n",
       "  <tbody>\n",
       "    <tr>\n",
       "      <th>count</th>\n",
       "      <td>3.136890e+05</td>\n",
       "      <td>313689.000000</td>\n",
       "      <td>313689.000000</td>\n",
       "      <td>313689.000000</td>\n",
       "      <td>313689.000000</td>\n",
       "    </tr>\n",
       "    <tr>\n",
       "      <th>mean</th>\n",
       "      <td>1.124350e+06</td>\n",
       "      <td>828.813870</td>\n",
       "      <td>58.695848</td>\n",
       "      <td>58.661043</td>\n",
       "      <td>414.204770</td>\n",
       "    </tr>\n",
       "    <tr>\n",
       "      <th>std</th>\n",
       "      <td>1.235891e+05</td>\n",
       "      <td>2384.403076</td>\n",
       "      <td>16.231539</td>\n",
       "      <td>16.266624</td>\n",
       "      <td>167.148791</td>\n",
       "    </tr>\n",
       "    <tr>\n",
       "      <th>min</th>\n",
       "      <td>9.134650e+05</td>\n",
       "      <td>60.000000</td>\n",
       "      <td>2.000000</td>\n",
       "      <td>2.000000</td>\n",
       "      <td>9.000000</td>\n",
       "    </tr>\n",
       "    <tr>\n",
       "      <th>25%</th>\n",
       "      <td>1.015993e+06</td>\n",
       "      <td>354.000000</td>\n",
       "      <td>50.000000</td>\n",
       "      <td>50.000000</td>\n",
       "      <td>313.000000</td>\n",
       "    </tr>\n",
       "    <tr>\n",
       "      <th>50%</th>\n",
       "      <td>1.123581e+06</td>\n",
       "      <td>519.000000</td>\n",
       "      <td>62.000000</td>\n",
       "      <td>62.000000</td>\n",
       "      <td>427.000000</td>\n",
       "    </tr>\n",
       "    <tr>\n",
       "      <th>75%</th>\n",
       "      <td>1.231897e+06</td>\n",
       "      <td>735.000000</td>\n",
       "      <td>70.000000</td>\n",
       "      <td>70.000000</td>\n",
       "      <td>538.000000</td>\n",
       "    </tr>\n",
       "    <tr>\n",
       "      <th>max</th>\n",
       "      <td>1.338408e+06</td>\n",
       "      <td>86325.000000</td>\n",
       "      <td>91.000000</td>\n",
       "      <td>91.000000</td>\n",
       "      <td>878.000000</td>\n",
       "    </tr>\n",
       "  </tbody>\n",
       "</table>\n",
       "</div>"
      ],
      "text/plain": [
       "            Trip ID       Duration  Start Terminal   End Terminal  \\\n",
       "count  3.136890e+05  313689.000000   313689.000000  313689.000000   \n",
       "mean   1.124350e+06     828.813870       58.695848      58.661043   \n",
       "std    1.235891e+05    2384.403076       16.231539      16.266624   \n",
       "min    9.134650e+05      60.000000        2.000000       2.000000   \n",
       "25%    1.015993e+06     354.000000       50.000000      50.000000   \n",
       "50%    1.123581e+06     519.000000       62.000000      62.000000   \n",
       "75%    1.231897e+06     735.000000       70.000000      70.000000   \n",
       "max    1.338408e+06   86325.000000       91.000000      91.000000   \n",
       "\n",
       "              Bike #  \n",
       "count  313689.000000  \n",
       "mean      414.204770  \n",
       "std       167.148791  \n",
       "min         9.000000  \n",
       "25%       313.000000  \n",
       "50%       427.000000  \n",
       "75%       538.000000  \n",
       "max       878.000000  "
      ]
     },
     "execution_count": 81,
     "metadata": {},
     "output_type": "execute_result"
    }
   ],
   "source": [
    "trips.describe()"
   ]
  },
  {
   "cell_type": "code",
   "execution_count": 84,
   "metadata": {
    "collapsed": false
   },
   "outputs": [
    {
     "data": {
      "text/plain": [
       "<matplotlib.axes._subplots.AxesSubplot at 0x119f12f10>"
      ]
     },
     "execution_count": 84,
     "metadata": {},
     "output_type": "execute_result"
    },
    {
     "data": {
      "image/png": "[encoded data removed]",
      "text/plain": [
       "<matplotlib.figure.Figure at 0x119ee0110>"
      ]
     },
     "metadata": {},
     "output_type": "display_data"
    }
   ],
   "source": [
    "# Let's lok at how the trip duration data is distributed\n",
    "trips[trips['Duration'] < 2000]['Duration'].hist(bins = 30)"
   ]
  },
  {
   "cell_type": "code",
   "execution_count": null,
   "metadata": {
    "collapsed": true
   },
   "outputs": [],
   "source": []
  }
 ],
 "metadata": {
  "anaconda-cloud": {},
  "kernelspec": {
   "display_name": "Python [default]",
   "language": "python",
   "name": "python2"
  },
  "language_info": {
   "codemirror_mode": {
    "name": "ipython",
    "version": 2
   },
   "file_extension": ".py",
   "mimetype": "text/x-python",
   "name": "python",
   "nbconvert_exporter": "python",
   "pygments_lexer": "ipython2",
   "version": "2.7.12"
  }
 },
 "nbformat": 4,
 "nbformat_minor": 1
}
