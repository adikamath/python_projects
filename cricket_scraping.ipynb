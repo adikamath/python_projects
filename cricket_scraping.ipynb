{
 "cells": [
  {
   "cell_type": "markdown",
   "metadata": {},
   "source": [
    "# Scraping Cricket Statistics"
   ]
  },
  {
   "cell_type": "markdown",
   "metadata": {},
   "source": [
    "I had gone through several tutorials on using Beautiful Soup to scrape data off of websites and I was on the lookout for a webpage that I could practice my skills on. Now, back home in India, cricket has HUGE fan-following and that a website containing cricket statistics seemed like a good choice for scraping. In this post, I'm going to scrape data from the website HOWSTAT.\n",
    "\n",
    "Let's import some packages to help us scrape the data. In brief, 'requests' will help us to download the webpage as HTML, 're' is the regular expressions package for Python, 'BeautifulSoup' to help us extract data from HTML tags and 'pandas' to help us with storing the scraped data. "
   ]
  },
  {
   "cell_type": "code",
   "execution_count": 1,
   "metadata": {
    "collapsed": true
   },
   "outputs": [],
   "source": [
    "import requests, re\n",
    "import pandas as pd\n",
    "from bs4 import BeautifulSoup"
   ]
  },
  {
   "cell_type": "markdown",
   "metadata": {},
   "source": [
    "To prevent overburdening the website with HTTP requests for dowloading the webpage, let's write a function which we will call just once to download the html as a text file. "
   ]
  },
  {
   "cell_type": "code",
   "execution_count": 2,
   "metadata": {
    "collapsed": true
   },
   "outputs": [],
   "source": [
    "def download_page():\n",
    "    ## Download the page using the URL and save as a text file\n",
    "    page_html = requests.get('http://www.howstat.com.au/cricket/Statistics/Players/PlayerCountryList.asp?Country=IND')\n",
    "    f_html = open('f_html.txt', 'w').write(page_html.text)"
   ]
  },
  {
   "cell_type": "code",
   "execution_count": 4,
   "metadata": {
    "collapsed": true
   },
   "outputs": [],
   "source": [
    "# Call the function to download the page here\n",
    "download_page()"
   ]
  },
  {
   "cell_type": "code",
   "execution_count": 5,
   "metadata": {
    "collapsed": true
   },
   "outputs": [],
   "source": [
    "## Read in the text file, soupify and close file\n",
    "f_open = open('f_html.txt', 'r')\n",
    "soup = BeautifulSoup(f_open.read(), 'lxml')\n",
    "f_open.close()"
   ]
  },
  {
   "cell_type": "code",
   "execution_count": 7,
   "metadata": {
    "collapsed": false
   },
   "outputs": [],
   "source": [
    "## Selects the parent tag 'tr' containing children 'td' with col names (found by trial and error)\n",
    "col_tags = soup.find_all('tr')[21:22][0].contents    \n",
    "col_list = [] # List to store the raw names  \n",
    "for each in col_tags:\n",
    "    if 'td' in str(each): # looks for td tag among other unnecessary stuff\n",
    "        col_list.append(BeautifulSoup(str(each), 'lxml').getText())"
   ]
  },
  {
   "cell_type": "code",
   "execution_count": 8,
   "metadata": {
    "collapsed": true
   },
   "outputs": [],
   "source": [
    "# re.search('(\\w\\s*)+',col_list[i]).group().strip() looks for only words and strips them of unecessary stuff\n",
    "col_names =[re.search('(\\w\\s*)+',col_list[i]).group().strip() for i in xrange(len(col_list))]\n",
    "col_names = map(str, col_names) # Converting unicode names to string"
   ]
  },
  {
   "cell_type": "code",
   "execution_count": 9,
   "metadata": {
    "collapsed": false
   },
   "outputs": [
    {
     "data": {
      "text/plain": [
       "'Bowl_Avg'"
      ]
     },
     "execution_count": 9,
     "metadata": {},
     "output_type": "execute_result"
    }
   ],
   "source": [
    "## Now we have to rename columns according to Test, ODI and T20 in that order\n",
    "## First join the words with an '_' and then change names\n",
    "col_names = [re.sub(' ', '_', col_names[i]) for i in xrange(len(col_names))]\n",
    "col_names[1:5] = ['Test_'+col_names[i] for i in range(1,6)]\n",
    "col_names.pop(6)\n",
    "col_names[6:10] = ['ODI_'+col_names[i] for i in range(6,11)]\n",
    "col_names.pop(11)\n",
    "col_names[11:15] = ['T20_'+col_names[i] for i in range(11,16)]\n",
    "col_names.pop(16)"
   ]
  },
  {
   "cell_type": "code",
   "execution_count": 10,
   "metadata": {
    "collapsed": true
   },
   "outputs": [],
   "source": [
    "## Let's search for player stats and store them as individual lists within a list\n",
    "## By looking at the table on the website & by trial and error, I see that player indexes\n",
    "## start at 22 and end at 364\n",
    "players = [] # Master list with all players\n",
    "for i in range(22, 365): # Looping through each players tag collection\n",
    "    temp_list = [] # list to build each players info\n",
    "    player_tags = soup.find_all('tr')[i].find_all('td') # Each player is contained within 'tr' and stats within 'td'\n",
    "    temp_list.append(str(player_tags[0].getText().strip())) # Storing players name\n",
    "    for i in range( 1, len(player_tags)): # Filling temp_list with the players stats\n",
    "        temp_list.append(str(player_tags[i].getText().strip()))\n",
    "    # Replace missing values with NaN    \n",
    "    for i in xrange(len(temp_list)):\n",
    "        if temp_list[i] == '': temp_list[i] = float('NaN')\n",
    "    temp_list[1: ] = map(float, temp_list[1: ]) # Converting all numbers to float\n",
    "    players.append(temp_list) # Appending each player to the master list"
   ]
  },
  {
   "cell_type": "code",
   "execution_count": 11,
   "metadata": {
    "collapsed": true
   },
   "outputs": [],
   "source": [
    "stats = pd.DataFrame(players, columns = col_names)"
   ]
  },
  {
   "cell_type": "code",
   "execution_count": 14,
   "metadata": {
    "collapsed": false
   },
   "outputs": [
    {
     "data": {
      "text/html": [
       "<div>\n",
       "<table border=\"1\" class=\"dataframe\">\n",
       "  <thead>\n",
       "    <tr style=\"text-align: right;\">\n",
       "      <th></th>\n",
       "      <th>Name</th>\n",
       "      <th>Test_M</th>\n",
       "      <th>Test_Runs</th>\n",
       "      <th>Test_Bat_Avg</th>\n",
       "      <th>Test_Wkts</th>\n",
       "      <th>Test_Bowl_Avg</th>\n",
       "      <th>ODI_M</th>\n",
       "      <th>ODI_Runs</th>\n",
       "      <th>ODI_Bat_Avg</th>\n",
       "      <th>ODI_Wkts</th>\n",
       "      <th>ODI_Bowl_Avg</th>\n",
       "      <th>T20_M</th>\n",
       "      <th>T20_Runs</th>\n",
       "      <th>T20_Bat_Avg</th>\n",
       "      <th>T20_Wkts</th>\n",
       "      <th>T20_Bowl_Avg</th>\n",
       "    </tr>\n",
       "  </thead>\n",
       "  <tbody>\n",
       "    <tr>\n",
       "      <th>0</th>\n",
       "      <td>Aaron, Varun R*</td>\n",
       "      <td>9</td>\n",
       "      <td>35</td>\n",
       "      <td>3.89</td>\n",
       "      <td>18</td>\n",
       "      <td>52.61</td>\n",
       "      <td>9</td>\n",
       "      <td>8</td>\n",
       "      <td>8.00</td>\n",
       "      <td>11</td>\n",
       "      <td>38.09</td>\n",
       "      <td>NaN</td>\n",
       "      <td>NaN</td>\n",
       "      <td>NaN</td>\n",
       "      <td>NaN</td>\n",
       "      <td>NaN</td>\n",
       "    </tr>\n",
       "    <tr>\n",
       "      <th>1</th>\n",
       "      <td>Abid Ali, Syed</td>\n",
       "      <td>29</td>\n",
       "      <td>1018</td>\n",
       "      <td>20.36</td>\n",
       "      <td>47</td>\n",
       "      <td>42.13</td>\n",
       "      <td>5</td>\n",
       "      <td>93</td>\n",
       "      <td>31.00</td>\n",
       "      <td>7</td>\n",
       "      <td>26.71</td>\n",
       "      <td>NaN</td>\n",
       "      <td>NaN</td>\n",
       "      <td>NaN</td>\n",
       "      <td>NaN</td>\n",
       "      <td>NaN</td>\n",
       "    </tr>\n",
       "    <tr>\n",
       "      <th>2</th>\n",
       "      <td>Adhikari, Hemu R</td>\n",
       "      <td>21</td>\n",
       "      <td>872</td>\n",
       "      <td>31.14</td>\n",
       "      <td>3</td>\n",
       "      <td>27.33</td>\n",
       "      <td>NaN</td>\n",
       "      <td>NaN</td>\n",
       "      <td>NaN</td>\n",
       "      <td>NaN</td>\n",
       "      <td>NaN</td>\n",
       "      <td>NaN</td>\n",
       "      <td>NaN</td>\n",
       "      <td>NaN</td>\n",
       "      <td>NaN</td>\n",
       "      <td>NaN</td>\n",
       "    </tr>\n",
       "    <tr>\n",
       "      <th>3</th>\n",
       "      <td>Agarkar, Ajit B</td>\n",
       "      <td>26</td>\n",
       "      <td>571</td>\n",
       "      <td>16.79</td>\n",
       "      <td>58</td>\n",
       "      <td>47.33</td>\n",
       "      <td>191</td>\n",
       "      <td>1269</td>\n",
       "      <td>14.59</td>\n",
       "      <td>288</td>\n",
       "      <td>27.85</td>\n",
       "      <td>4</td>\n",
       "      <td>15</td>\n",
       "      <td>7.5</td>\n",
       "      <td>3</td>\n",
       "      <td>28.33</td>\n",
       "    </tr>\n",
       "    <tr>\n",
       "      <th>4</th>\n",
       "      <td>Amar Singh, Ladha</td>\n",
       "      <td>7</td>\n",
       "      <td>292</td>\n",
       "      <td>22.46</td>\n",
       "      <td>28</td>\n",
       "      <td>30.64</td>\n",
       "      <td>NaN</td>\n",
       "      <td>NaN</td>\n",
       "      <td>NaN</td>\n",
       "      <td>NaN</td>\n",
       "      <td>NaN</td>\n",
       "      <td>NaN</td>\n",
       "      <td>NaN</td>\n",
       "      <td>NaN</td>\n",
       "      <td>NaN</td>\n",
       "      <td>NaN</td>\n",
       "    </tr>\n",
       "  </tbody>\n",
       "</table>\n",
       "</div>"
      ],
      "text/plain": [
       "                Name  Test_M  Test_Runs  Test_Bat_Avg  Test_Wkts  \\\n",
       "0    Aaron, Varun R*       9         35          3.89         18   \n",
       "1     Abid Ali, Syed      29       1018         20.36         47   \n",
       "2   Adhikari, Hemu R      21        872         31.14          3   \n",
       "3    Agarkar, Ajit B      26        571         16.79         58   \n",
       "4  Amar Singh, Ladha       7        292         22.46         28   \n",
       "\n",
       "   Test_Bowl_Avg  ODI_M  ODI_Runs  ODI_Bat_Avg  ODI_Wkts  ODI_Bowl_Avg  T20_M  \\\n",
       "0          52.61      9         8         8.00        11         38.09    NaN   \n",
       "1          42.13      5        93        31.00         7         26.71    NaN   \n",
       "2          27.33    NaN       NaN          NaN       NaN           NaN    NaN   \n",
       "3          47.33    191      1269        14.59       288         27.85      4   \n",
       "4          30.64    NaN       NaN          NaN       NaN           NaN    NaN   \n",
       "\n",
       "   T20_Runs  T20_Bat_Avg  T20_Wkts  T20_Bowl_Avg  \n",
       "0       NaN          NaN       NaN           NaN  \n",
       "1       NaN          NaN       NaN           NaN  \n",
       "2       NaN          NaN       NaN           NaN  \n",
       "3        15          7.5         3         28.33  \n",
       "4       NaN          NaN       NaN           NaN  "
      ]
     },
     "execution_count": 14,
     "metadata": {},
     "output_type": "execute_result"
    }
   ],
   "source": [
    "stats.head()"
   ]
  },
  {
   "cell_type": "code",
   "execution_count": null,
   "metadata": {
    "collapsed": true
   },
   "outputs": [],
   "source": []
  }
 ],
 "metadata": {
  "kernelspec": {
   "display_name": "Python 2",
   "language": "python",
   "name": "python2"
  },
  "language_info": {
   "codemirror_mode": {
    "name": "ipython",
    "version": 2
   },
   "file_extension": ".py",
   "mimetype": "text/x-python",
   "name": "python",
   "nbconvert_exporter": "python",
   "pygments_lexer": "ipython2",
   "version": "2.7.11"
  }
 },
 "nbformat": 4,
 "nbformat_minor": 0
}
