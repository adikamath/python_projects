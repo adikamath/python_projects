{
 "cells": [
  {
   "cell_type": "markdown",
   "metadata": {},
   "source": [
    "<p style=\"text-align:justify\">Today I'm writing about Pandas in Python! I've used the Pandas library a few times and I find it incredibly useful to handle all data wrangling tasks...there's so much you can do with Pandas that I've only scratched the surface. So I'm going to demonstrate a few of its features here so that I keep forgetting for the lack of practice. So what I'm going to go at this data set with Pandas!</p>"
   ]
  },
  {
   "cell_type": "markdown",
   "metadata": {},
   "source": [
    "<h2>Importing Data</h2>"
   ]
  },
  {
   "cell_type": "code",
   "execution_count": 3,
   "metadata": {},
   "outputs": [],
   "source": [
    "#import required libraries\n",
    "import pandas as pd\n",
    "import matplotlib.pyplot as plt\n",
    "import datetime\n",
    "plt.style.use('ggplot')\n",
    "%matplotlib inline"
   ]
  },
  {
   "cell_type": "markdown",
   "metadata": {},
   "source": [
    "<p style=\"text-align:justify\">We're going to be using the year- 3 ( September 2015 - August 2016) bike share data from the Bay Area Bike Share website and here's the download <a href = \"https://s3.amazonaws.com/babs-open-data/babs_open_data_year_3.zip\">link</a>. Once downloaded, we are going to use the file named **201608_trip_data.csv**. It contains data on bike share rides taken by people over a whole year. \n",
    "\n",
    "Pandas makes it easy to import data in the form of data frames and we do this using the <b>.read_csv()</b> method. It lets you submit a bunch of different parameters to customize the way you want your data to be handeled. In our case we will only use a few important ones.</p>"
   ]
  },
  {
   "cell_type": "code",
   "execution_count": 4,
   "metadata": {},
   "outputs": [],
   "source": [
    "# Read the dataset into a pandas dataframe, first the file path and then define the type of seperator in the csv,\n",
    "# In this case it is a comma separated values\n",
    "mydata = pd.read_csv('201608_trip_data.csv', sep = ',')"
   ]
  },
  {
   "cell_type": "markdown",
   "metadata": {},
   "source": [
    "Now that we have imported the data as a data frame, let's get a quick summary about it."
   ]
  },
  {
   "cell_type": "code",
   "execution_count": 5,
   "metadata": {
    "scrolled": true
   },
   "outputs": [
    {
     "name": "stdout",
     "output_type": "stream",
     "text": [
      "<class 'pandas.core.frame.DataFrame'>\n",
      "RangeIndex: 313689 entries, 0 to 313688\n",
      "Data columns (total 11 columns):\n",
      "Trip ID            313689 non-null int64\n",
      "Duration           313689 non-null int64\n",
      "Start Date         313689 non-null object\n",
      "Start Station      313689 non-null object\n",
      "Start Terminal     313689 non-null int64\n",
      "End Date           313689 non-null object\n",
      "End Station        313689 non-null object\n",
      "End Terminal       313689 non-null int64\n",
      "Bike #             313689 non-null int64\n",
      "Subscriber Type    313689 non-null object\n",
      "Zip Code           313498 non-null object\n",
      "dtypes: int64(5), object(6)\n",
      "memory usage: 26.3+ MB\n"
     ]
    },
    {
     "data": {
      "text/html": [
       "<div>\n",
       "<table border=\"1\" class=\"dataframe\">\n",
       "  <thead>\n",
       "    <tr style=\"text-align: right;\">\n",
       "      <th></th>\n",
       "      <th>Trip ID</th>\n",
       "      <th>Duration</th>\n",
       "      <th>Start Terminal</th>\n",
       "      <th>End Terminal</th>\n",
       "      <th>Bike #</th>\n",
       "    </tr>\n",
       "  </thead>\n",
       "  <tbody>\n",
       "    <tr>\n",
       "      <th>count</th>\n",
       "      <td>3.136890e+05</td>\n",
       "      <td>313689.000000</td>\n",
       "      <td>313689.000000</td>\n",
       "      <td>313689.000000</td>\n",
       "      <td>313689.000000</td>\n",
       "    </tr>\n",
       "    <tr>\n",
       "      <th>mean</th>\n",
       "      <td>1.124350e+06</td>\n",
       "      <td>828.813870</td>\n",
       "      <td>58.695848</td>\n",
       "      <td>58.661043</td>\n",
       "      <td>414.204770</td>\n",
       "    </tr>\n",
       "    <tr>\n",
       "      <th>std</th>\n",
       "      <td>1.235891e+05</td>\n",
       "      <td>2384.403076</td>\n",
       "      <td>16.231539</td>\n",
       "      <td>16.266624</td>\n",
       "      <td>167.148791</td>\n",
       "    </tr>\n",
       "    <tr>\n",
       "      <th>min</th>\n",
       "      <td>9.134650e+05</td>\n",
       "      <td>60.000000</td>\n",
       "      <td>2.000000</td>\n",
       "      <td>2.000000</td>\n",
       "      <td>9.000000</td>\n",
       "    </tr>\n",
       "    <tr>\n",
       "      <th>25%</th>\n",
       "      <td>1.015993e+06</td>\n",
       "      <td>354.000000</td>\n",
       "      <td>50.000000</td>\n",
       "      <td>50.000000</td>\n",
       "      <td>313.000000</td>\n",
       "    </tr>\n",
       "    <tr>\n",
       "      <th>50%</th>\n",
       "      <td>1.123581e+06</td>\n",
       "      <td>519.000000</td>\n",
       "      <td>62.000000</td>\n",
       "      <td>62.000000</td>\n",
       "      <td>427.000000</td>\n",
       "    </tr>\n",
       "    <tr>\n",
       "      <th>75%</th>\n",
       "      <td>1.231897e+06</td>\n",
       "      <td>735.000000</td>\n",
       "      <td>70.000000</td>\n",
       "      <td>70.000000</td>\n",
       "      <td>538.000000</td>\n",
       "    </tr>\n",
       "    <tr>\n",
       "      <th>max</th>\n",
       "      <td>1.338408e+06</td>\n",
       "      <td>86325.000000</td>\n",
       "      <td>91.000000</td>\n",
       "      <td>91.000000</td>\n",
       "      <td>878.000000</td>\n",
       "    </tr>\n",
       "  </tbody>\n",
       "</table>\n",
       "</div>"
      ],
      "text/plain": [
       "            Trip ID       Duration  Start Terminal   End Terminal  \\\n",
       "count  3.136890e+05  313689.000000   313689.000000  313689.000000   \n",
       "mean   1.124350e+06     828.813870       58.695848      58.661043   \n",
       "std    1.235891e+05    2384.403076       16.231539      16.266624   \n",
       "min    9.134650e+05      60.000000        2.000000       2.000000   \n",
       "25%    1.015993e+06     354.000000       50.000000      50.000000   \n",
       "50%    1.123581e+06     519.000000       62.000000      62.000000   \n",
       "75%    1.231897e+06     735.000000       70.000000      70.000000   \n",
       "max    1.338408e+06   86325.000000       91.000000      91.000000   \n",
       "\n",
       "              Bike #  \n",
       "count  313689.000000  \n",
       "mean      414.204770  \n",
       "std       167.148791  \n",
       "min         9.000000  \n",
       "25%       313.000000  \n",
       "50%       427.000000  \n",
       "75%       538.000000  \n",
       "max       878.000000  "
      ]
     },
     "execution_count": 5,
     "metadata": {},
     "output_type": "execute_result"
    }
   ],
   "source": [
    "# Let's use some methods to get a better idea of the data set that we just imported.\n",
    "mydata.info()\n",
    "mydata.describe()"
   ]
  },
  {
   "cell_type": "markdown",
   "metadata": {},
   "source": [
    "<p style=\"text-align:justify\">From the <b>.info()</b> method we can see the total length of the data frame - 313,689 entries and you can also see the 11 columns of the data frame, total values in each of them, whether they are null or not (in this case, we don't have any) and also the data type of the vlaues in each column. We can see many of the columns have integer data type but some like the dates are objects, we need to fix this and convert them to the python datetime format. We can change that in the next bit. The <b>.describe()</b> method gives you some essential statistics about the data. In this case these statistics make the most sense for the <b>Duration</b> column. It shows us that the average trip duration is 58.69 seconds.</p>\n",
    "<p></p>\n",
    "<p style=\"text-align:justify\">The <b>.to_datetime()</b> method can be used to values to the datetime format. Depending on how your date and time values are formatted, you can specify arguements in this method to parse the dates accordingly. In our case here this conversion is pretty much straightforward</p>"
   ]
  },
  {
   "cell_type": "code",
   "execution_count": 54,
   "metadata": {},
   "outputs": [],
   "source": [
    "#Convert Dates to datetime format & some other columsn to the appropriate data types\n",
    "mydata['Start Date'] = pd.to_datetime(mydata['Start Date'])\n",
    "mydata['End Date'] = pd.to_datetime(mydata['End Date'])"
   ]
  },
  {
   "cell_type": "markdown",
   "metadata": {},
   "source": [
    "Let's quickly have a peek at the first few entries using the <b>.head()</b> method...specifying in parenthisis, how many entries/rows you want to see."
   ]
  },
  {
   "cell_type": "code",
   "execution_count": 7,
   "metadata": {},
   "outputs": [
    {
     "data": {
      "text/html": [
       "<div>\n",
       "<table border=\"1\" class=\"dataframe\">\n",
       "  <thead>\n",
       "    <tr style=\"text-align: right;\">\n",
       "      <th></th>\n",
       "      <th>Trip ID</th>\n",
       "      <th>Duration</th>\n",
       "      <th>Start Date</th>\n",
       "      <th>Start Station</th>\n",
       "      <th>Start Terminal</th>\n",
       "      <th>End Date</th>\n",
       "      <th>End Station</th>\n",
       "      <th>End Terminal</th>\n",
       "      <th>Bike #</th>\n",
       "      <th>Subscriber Type</th>\n",
       "      <th>Zip Code</th>\n",
       "    </tr>\n",
       "  </thead>\n",
       "  <tbody>\n",
       "    <tr>\n",
       "      <th>0</th>\n",
       "      <td>913465</td>\n",
       "      <td>746</td>\n",
       "      <td>9/1/2015 0:10</td>\n",
       "      <td>San Francisco Caltrain 2 (330 Townsend)</td>\n",
       "      <td>69</td>\n",
       "      <td>9/1/2015 0:23</td>\n",
       "      <td>San Francisco City Hall</td>\n",
       "      <td>58</td>\n",
       "      <td>238</td>\n",
       "      <td>Subscriber</td>\n",
       "      <td>94107</td>\n",
       "    </tr>\n",
       "    <tr>\n",
       "      <th>1</th>\n",
       "      <td>913466</td>\n",
       "      <td>969</td>\n",
       "      <td>9/1/2015 0:15</td>\n",
       "      <td>Clay at Battery</td>\n",
       "      <td>41</td>\n",
       "      <td>9/1/2015 0:31</td>\n",
       "      <td>Washington at Kearny</td>\n",
       "      <td>46</td>\n",
       "      <td>16</td>\n",
       "      <td>Subscriber</td>\n",
       "      <td>94133</td>\n",
       "    </tr>\n",
       "    <tr>\n",
       "      <th>2</th>\n",
       "      <td>913467</td>\n",
       "      <td>233</td>\n",
       "      <td>9/1/2015 0:15</td>\n",
       "      <td>Davis at Jackson</td>\n",
       "      <td>42</td>\n",
       "      <td>9/1/2015 0:19</td>\n",
       "      <td>Commercial at Montgomery</td>\n",
       "      <td>45</td>\n",
       "      <td>534</td>\n",
       "      <td>Subscriber</td>\n",
       "      <td>94111</td>\n",
       "    </tr>\n",
       "  </tbody>\n",
       "</table>\n",
       "</div>"
      ],
      "text/plain": [
       "   Trip ID  Duration     Start Date                            Start Station  \\\n",
       "0   913465       746  9/1/2015 0:10  San Francisco Caltrain 2 (330 Townsend)   \n",
       "1   913466       969  9/1/2015 0:15                          Clay at Battery   \n",
       "2   913467       233  9/1/2015 0:15                         Davis at Jackson   \n",
       "\n",
       "   Start Terminal       End Date               End Station  End Terminal  \\\n",
       "0              69  9/1/2015 0:23   San Francisco City Hall            58   \n",
       "1              41  9/1/2015 0:31      Washington at Kearny            46   \n",
       "2              42  9/1/2015 0:19  Commercial at Montgomery            45   \n",
       "\n",
       "   Bike # Subscriber Type Zip Code  \n",
       "0     238      Subscriber    94107  \n",
       "1      16      Subscriber    94133  \n",
       "2     534      Subscriber    94111  "
      ]
     },
     "execution_count": 7,
     "metadata": {},
     "output_type": "execute_result"
    }
   ],
   "source": [
    "mydata.head(3)"
   ]
  },
  {
   "cell_type": "markdown",
   "metadata": {},
   "source": [
    "<h2>Subsetting Dataframes</h2>\n",
    "\n",
    "<p style=\"text-align:justify\">There are several ways that you can subset a dataframe in pandas. First off we look at the regular subsetting method by specifying the range in the brackets. Using this method, you can not only get subsets with all columns, but even conditional subsetting for specific columns as we shall see below.</p>"
   ]
  },
  {
   "cell_type": "code",
   "execution_count": 8,
   "metadata": {},
   "outputs": [
    {
     "data": {
      "text/html": [
       "<div>\n",
       "<table border=\"1\" class=\"dataframe\">\n",
       "  <thead>\n",
       "    <tr style=\"text-align: right;\">\n",
       "      <th></th>\n",
       "      <th>Trip ID</th>\n",
       "      <th>Duration</th>\n",
       "      <th>Start Date</th>\n",
       "      <th>Start Station</th>\n",
       "      <th>Start Terminal</th>\n",
       "      <th>End Date</th>\n",
       "      <th>End Station</th>\n",
       "      <th>End Terminal</th>\n",
       "      <th>Bike #</th>\n",
       "      <th>Subscriber Type</th>\n",
       "      <th>Zip Code</th>\n",
       "    </tr>\n",
       "  </thead>\n",
       "  <tbody>\n",
       "    <tr>\n",
       "      <th>5</th>\n",
       "      <td>913470</td>\n",
       "      <td>623</td>\n",
       "      <td>9/1/2015 1:36</td>\n",
       "      <td>San Jose Diridon Caltrain Station</td>\n",
       "      <td>2</td>\n",
       "      <td>9/1/2015 1:47</td>\n",
       "      <td>Japantown</td>\n",
       "      <td>9</td>\n",
       "      <td>261</td>\n",
       "      <td>Subscriber</td>\n",
       "      <td>95112</td>\n",
       "    </tr>\n",
       "    <tr>\n",
       "      <th>6</th>\n",
       "      <td>913471</td>\n",
       "      <td>746</td>\n",
       "      <td>9/1/2015 2:15</td>\n",
       "      <td>Embarcadero at Bryant</td>\n",
       "      <td>54</td>\n",
       "      <td>9/1/2015 2:27</td>\n",
       "      <td>Powell Street BART</td>\n",
       "      <td>39</td>\n",
       "      <td>436</td>\n",
       "      <td>Subscriber</td>\n",
       "      <td>94103</td>\n",
       "    </tr>\n",
       "    <tr>\n",
       "      <th>7</th>\n",
       "      <td>913472</td>\n",
       "      <td>1038</td>\n",
       "      <td>9/1/2015 3:38</td>\n",
       "      <td>Townsend at 7th</td>\n",
       "      <td>65</td>\n",
       "      <td>9/1/2015 3:56</td>\n",
       "      <td>Howard at 2nd</td>\n",
       "      <td>63</td>\n",
       "      <td>607</td>\n",
       "      <td>Subscriber</td>\n",
       "      <td>94107</td>\n",
       "    </tr>\n",
       "  </tbody>\n",
       "</table>\n",
       "</div>"
      ],
      "text/plain": [
       "   Trip ID  Duration     Start Date                      Start Station  \\\n",
       "5   913470       623  9/1/2015 1:36  San Jose Diridon Caltrain Station   \n",
       "6   913471       746  9/1/2015 2:15              Embarcadero at Bryant   \n",
       "7   913472      1038  9/1/2015 3:38                    Townsend at 7th   \n",
       "\n",
       "   Start Terminal       End Date         End Station  End Terminal  Bike #  \\\n",
       "5               2  9/1/2015 1:47           Japantown             9     261   \n",
       "6              54  9/1/2015 2:27  Powell Street BART            39     436   \n",
       "7              65  9/1/2015 3:56       Howard at 2nd            63     607   \n",
       "\n",
       "  Subscriber Type Zip Code  \n",
       "5      Subscriber    95112  \n",
       "6      Subscriber    94103  \n",
       "7      Subscriber    94107  "
      ]
     },
     "execution_count": 8,
     "metadata": {},
     "output_type": "execute_result"
    }
   ],
   "source": [
    "mydata[5:8] # To look at the entries in the data frame from 5 to 8"
   ]
  },
  {
   "cell_type": "code",
   "execution_count": 9,
   "metadata": {},
   "outputs": [
    {
     "data": {
      "text/plain": [
       "10         2nd at Folsom\n",
       "11      Davis at Jackson\n",
       "12    Powell Street BART\n",
       "Name: Start Station, dtype: object"
      ]
     },
     "execution_count": 9,
     "metadata": {},
     "output_type": "execute_result"
    }
   ],
   "source": [
    "# Do the same but with a specific column\n",
    "mydata['Start Station'][10:13]"
   ]
  },
  {
   "cell_type": "code",
   "execution_count": 10,
   "metadata": {
    "scrolled": true
   },
   "outputs": [
    {
     "data": {
      "text/html": [
       "<div>\n",
       "<table border=\"1\" class=\"dataframe\">\n",
       "  <thead>\n",
       "    <tr style=\"text-align: right;\">\n",
       "      <th></th>\n",
       "      <th>Start Date</th>\n",
       "      <th>Start Station</th>\n",
       "      <th>Duration</th>\n",
       "    </tr>\n",
       "  </thead>\n",
       "  <tbody>\n",
       "    <tr>\n",
       "      <th>5</th>\n",
       "      <td>9/1/2015 1:36</td>\n",
       "      <td>San Jose Diridon Caltrain Station</td>\n",
       "      <td>623</td>\n",
       "    </tr>\n",
       "    <tr>\n",
       "      <th>6</th>\n",
       "      <td>9/1/2015 2:15</td>\n",
       "      <td>Embarcadero at Bryant</td>\n",
       "      <td>746</td>\n",
       "    </tr>\n",
       "    <tr>\n",
       "      <th>7</th>\n",
       "      <td>9/1/2015 3:38</td>\n",
       "      <td>Townsend at 7th</td>\n",
       "      <td>1038</td>\n",
       "    </tr>\n",
       "  </tbody>\n",
       "</table>\n",
       "</div>"
      ],
      "text/plain": [
       "      Start Date                      Start Station  Duration\n",
       "5  9/1/2015 1:36  San Jose Diridon Caltrain Station       623\n",
       "6  9/1/2015 2:15              Embarcadero at Bryant       746\n",
       "7  9/1/2015 3:38                    Townsend at 7th      1038"
      ]
     },
     "execution_count": 10,
     "metadata": {},
     "output_type": "execute_result"
    }
   ],
   "source": [
    "# Or subset the dataframes selected columns on specific entries like below\n",
    "mydata[['Start Date', 'Start Station', 'Duration']][5:8]"
   ]
  },
  {
   "cell_type": "markdown",
   "metadata": {},
   "source": [
    "<p style=\"text-align:justify\">You can perform conditional subsetting of the data frame by putting in either single or multiple conditions within the brackets while subsetting. Some examples are shown below.</p>"
   ]
  },
  {
   "cell_type": "code",
   "execution_count": 11,
   "metadata": {},
   "outputs": [
    {
     "data": {
      "text/html": [
       "<div>\n",
       "<table border=\"1\" class=\"dataframe\">\n",
       "  <thead>\n",
       "    <tr style=\"text-align: right;\">\n",
       "      <th></th>\n",
       "      <th>Trip ID</th>\n",
       "      <th>Duration</th>\n",
       "      <th>Start Date</th>\n",
       "      <th>Start Station</th>\n",
       "      <th>Start Terminal</th>\n",
       "      <th>End Date</th>\n",
       "      <th>End Station</th>\n",
       "      <th>End Terminal</th>\n",
       "      <th>Bike #</th>\n",
       "      <th>Subscriber Type</th>\n",
       "      <th>Zip Code</th>\n",
       "    </tr>\n",
       "  </thead>\n",
       "  <tbody>\n",
       "    <tr>\n",
       "      <th>7</th>\n",
       "      <td>913472</td>\n",
       "      <td>1038</td>\n",
       "      <td>9/1/2015 3:38</td>\n",
       "      <td>Townsend at 7th</td>\n",
       "      <td>65</td>\n",
       "      <td>9/1/2015 3:56</td>\n",
       "      <td>Howard at 2nd</td>\n",
       "      <td>63</td>\n",
       "      <td>607</td>\n",
       "      <td>Subscriber</td>\n",
       "      <td>94107</td>\n",
       "    </tr>\n",
       "    <tr>\n",
       "      <th>44</th>\n",
       "      <td>913517</td>\n",
       "      <td>4238</td>\n",
       "      <td>9/1/2015 6:50</td>\n",
       "      <td>San Francisco Caltrain (Townsend at 4th)</td>\n",
       "      <td>70</td>\n",
       "      <td>9/1/2015 8:00</td>\n",
       "      <td>Townsend at 7th</td>\n",
       "      <td>65</td>\n",
       "      <td>422</td>\n",
       "      <td>Subscriber</td>\n",
       "      <td>95122</td>\n",
       "    </tr>\n",
       "    <tr>\n",
       "      <th>57</th>\n",
       "      <td>913531</td>\n",
       "      <td>1032</td>\n",
       "      <td>9/1/2015 7:06</td>\n",
       "      <td>San Francisco Caltrain (Townsend at 4th)</td>\n",
       "      <td>70</td>\n",
       "      <td>9/1/2015 7:23</td>\n",
       "      <td>Embarcadero at Sansome</td>\n",
       "      <td>60</td>\n",
       "      <td>277</td>\n",
       "      <td>Subscriber</td>\n",
       "      <td>94085</td>\n",
       "    </tr>\n",
       "  </tbody>\n",
       "</table>\n",
       "</div>"
      ],
      "text/plain": [
       "    Trip ID  Duration     Start Date  \\\n",
       "7    913472      1038  9/1/2015 3:38   \n",
       "44   913517      4238  9/1/2015 6:50   \n",
       "57   913531      1032  9/1/2015 7:06   \n",
       "\n",
       "                               Start Station  Start Terminal       End Date  \\\n",
       "7                            Townsend at 7th              65  9/1/2015 3:56   \n",
       "44  San Francisco Caltrain (Townsend at 4th)              70  9/1/2015 8:00   \n",
       "57  San Francisco Caltrain (Townsend at 4th)              70  9/1/2015 7:23   \n",
       "\n",
       "               End Station  End Terminal  Bike # Subscriber Type Zip Code  \n",
       "7            Howard at 2nd            63     607      Subscriber    94107  \n",
       "44         Townsend at 7th            65     422      Subscriber    95122  \n",
       "57  Embarcadero at Sansome            60     277      Subscriber    94085  "
      ]
     },
     "execution_count": 11,
     "metadata": {},
     "output_type": "execute_result"
    }
   ],
   "source": [
    "# To look at the first 3 entries in the dataframe where the duration of the trips is above 1000 seconds.\n",
    "mydata[mydata['Duration'] > 1000][:3]"
   ]
  },
  {
   "cell_type": "code",
   "execution_count": 12,
   "metadata": {
    "scrolled": true
   },
   "outputs": [
    {
     "data": {
      "text/html": [
       "<div>\n",
       "<table border=\"1\" class=\"dataframe\">\n",
       "  <thead>\n",
       "    <tr style=\"text-align: right;\">\n",
       "      <th></th>\n",
       "      <th>Trip ID</th>\n",
       "      <th>Duration</th>\n",
       "      <th>Start Date</th>\n",
       "      <th>Start Station</th>\n",
       "      <th>Start Terminal</th>\n",
       "      <th>End Date</th>\n",
       "      <th>End Station</th>\n",
       "      <th>End Terminal</th>\n",
       "      <th>Bike #</th>\n",
       "      <th>Subscriber Type</th>\n",
       "      <th>Zip Code</th>\n",
       "    </tr>\n",
       "  </thead>\n",
       "  <tbody>\n",
       "    <tr>\n",
       "      <th>44</th>\n",
       "      <td>913517</td>\n",
       "      <td>4238</td>\n",
       "      <td>9/1/2015 6:50</td>\n",
       "      <td>San Francisco Caltrain (Townsend at 4th)</td>\n",
       "      <td>70</td>\n",
       "      <td>9/1/2015 8:00</td>\n",
       "      <td>Townsend at 7th</td>\n",
       "      <td>65</td>\n",
       "      <td>422</td>\n",
       "      <td>Subscriber</td>\n",
       "      <td>95122</td>\n",
       "    </tr>\n",
       "    <tr>\n",
       "      <th>57</th>\n",
       "      <td>913531</td>\n",
       "      <td>1032</td>\n",
       "      <td>9/1/2015 7:06</td>\n",
       "      <td>San Francisco Caltrain (Townsend at 4th)</td>\n",
       "      <td>70</td>\n",
       "      <td>9/1/2015 7:23</td>\n",
       "      <td>Embarcadero at Sansome</td>\n",
       "      <td>60</td>\n",
       "      <td>277</td>\n",
       "      <td>Subscriber</td>\n",
       "      <td>94085</td>\n",
       "    </tr>\n",
       "    <tr>\n",
       "      <th>768</th>\n",
       "      <td>914430</td>\n",
       "      <td>1547</td>\n",
       "      <td>9/1/2015 14:54</td>\n",
       "      <td>San Francisco Caltrain (Townsend at 4th)</td>\n",
       "      <td>70</td>\n",
       "      <td>9/1/2015 15:20</td>\n",
       "      <td>South Van Ness at Market</td>\n",
       "      <td>66</td>\n",
       "      <td>260</td>\n",
       "      <td>Customer</td>\n",
       "      <td>94131</td>\n",
       "    </tr>\n",
       "  </tbody>\n",
       "</table>\n",
       "</div>"
      ],
      "text/plain": [
       "     Trip ID  Duration      Start Date  \\\n",
       "44    913517      4238   9/1/2015 6:50   \n",
       "57    913531      1032   9/1/2015 7:06   \n",
       "768   914430      1547  9/1/2015 14:54   \n",
       "\n",
       "                                Start Station  Start Terminal        End Date  \\\n",
       "44   San Francisco Caltrain (Townsend at 4th)              70   9/1/2015 8:00   \n",
       "57   San Francisco Caltrain (Townsend at 4th)              70   9/1/2015 7:23   \n",
       "768  San Francisco Caltrain (Townsend at 4th)              70  9/1/2015 15:20   \n",
       "\n",
       "                  End Station  End Terminal  Bike # Subscriber Type Zip Code  \n",
       "44            Townsend at 7th            65     422      Subscriber    95122  \n",
       "57     Embarcadero at Sansome            60     277      Subscriber    94085  \n",
       "768  South Van Ness at Market            66     260        Customer    94131  "
      ]
     },
     "execution_count": 12,
     "metadata": {},
     "output_type": "execute_result"
    }
   ],
   "source": [
    "# Example of subsetting with multiple conditions- first 3 entries of trips from Start Station 70 and those that are \n",
    "# above a 1000 seconds\n",
    "mydata[(mydata['Duration'] > 1000) & (mydata['Start Terminal'] == 70)][:3]"
   ]
  },
  {
   "cell_type": "markdown",
   "metadata": {},
   "source": [
    "<p style=\"text-align:justify\">**Indexes** in python are extermely useful in advanced subsetting of data frames. Here let's look at doing some basic subsetting using the **.loc[]** and **.iloc[]** methods. The Pandas documentation [here](http://pandas.pydata.org/pandas-docs/stable/indexing.html) refers to indexes as metadata that act as indicators for aligning the data in the data frame and that can be used for subsetting and visualization among other uses. Basically, indexes can be integers that are ordered or just label information. Let's take a look at how the index in our data frame looks.</p>"
   ]
  },
  {
   "cell_type": "code",
   "execution_count": 13,
   "metadata": {},
   "outputs": [
    {
     "name": "stdout",
     "output_type": "stream",
     "text": [
      "<class 'pandas.core.frame.DataFrame'>\n",
      "RangeIndex: 313689 entries, 0 to 313688\n",
      "Data columns (total 11 columns):\n",
      "Trip ID            313689 non-null int64\n",
      "Duration           313689 non-null int64\n",
      "Start Date         313689 non-null object\n",
      "Start Station      313689 non-null object\n",
      "Start Terminal     313689 non-null int64\n",
      "End Date           313689 non-null object\n",
      "End Station        313689 non-null object\n",
      "End Terminal       313689 non-null int64\n",
      "Bike #             313689 non-null int64\n",
      "Subscriber Type    313689 non-null object\n",
      "Zip Code           313498 non-null object\n",
      "dtypes: int64(5), object(6)\n",
      "memory usage: 26.3+ MB\n"
     ]
    }
   ],
   "source": [
    "mydata.info()"
   ]
  },
  {
   "cell_type": "markdown",
   "metadata": {},
   "source": [
    "<p style=\"text-align:justify\">Using the **.info()** method, we can see that we have a integer index that ranges from 0 to 313688. But what if we want to change the index of our data frame and instead use label indexes? We can easily do that using the **.set_index()** method. To make the **Trip ID** as the index follow the step shown below.</p>"
   ]
  },
  {
   "cell_type": "code",
   "execution_count": 14,
   "metadata": {},
   "outputs": [
    {
     "data": {
      "text/html": [
       "<div>\n",
       "<table border=\"1\" class=\"dataframe\">\n",
       "  <thead>\n",
       "    <tr style=\"text-align: right;\">\n",
       "      <th></th>\n",
       "      <th>Duration</th>\n",
       "      <th>Start Date</th>\n",
       "      <th>Start Station</th>\n",
       "      <th>Start Terminal</th>\n",
       "      <th>End Date</th>\n",
       "      <th>End Station</th>\n",
       "      <th>End Terminal</th>\n",
       "      <th>Bike #</th>\n",
       "      <th>Subscriber Type</th>\n",
       "      <th>Zip Code</th>\n",
       "    </tr>\n",
       "    <tr>\n",
       "      <th>Trip ID</th>\n",
       "      <th></th>\n",
       "      <th></th>\n",
       "      <th></th>\n",
       "      <th></th>\n",
       "      <th></th>\n",
       "      <th></th>\n",
       "      <th></th>\n",
       "      <th></th>\n",
       "      <th></th>\n",
       "      <th></th>\n",
       "    </tr>\n",
       "  </thead>\n",
       "  <tbody>\n",
       "    <tr>\n",
       "      <th>913465</th>\n",
       "      <td>746</td>\n",
       "      <td>9/1/2015 0:10</td>\n",
       "      <td>San Francisco Caltrain 2 (330 Townsend)</td>\n",
       "      <td>69</td>\n",
       "      <td>9/1/2015 0:23</td>\n",
       "      <td>San Francisco City Hall</td>\n",
       "      <td>58</td>\n",
       "      <td>238</td>\n",
       "      <td>Subscriber</td>\n",
       "      <td>94107</td>\n",
       "    </tr>\n",
       "    <tr>\n",
       "      <th>913466</th>\n",
       "      <td>969</td>\n",
       "      <td>9/1/2015 0:15</td>\n",
       "      <td>Clay at Battery</td>\n",
       "      <td>41</td>\n",
       "      <td>9/1/2015 0:31</td>\n",
       "      <td>Washington at Kearny</td>\n",
       "      <td>46</td>\n",
       "      <td>16</td>\n",
       "      <td>Subscriber</td>\n",
       "      <td>94133</td>\n",
       "    </tr>\n",
       "    <tr>\n",
       "      <th>913467</th>\n",
       "      <td>233</td>\n",
       "      <td>9/1/2015 0:15</td>\n",
       "      <td>Davis at Jackson</td>\n",
       "      <td>42</td>\n",
       "      <td>9/1/2015 0:19</td>\n",
       "      <td>Commercial at Montgomery</td>\n",
       "      <td>45</td>\n",
       "      <td>534</td>\n",
       "      <td>Subscriber</td>\n",
       "      <td>94111</td>\n",
       "    </tr>\n",
       "  </tbody>\n",
       "</table>\n",
       "</div>"
      ],
      "text/plain": [
       "         Duration     Start Date                            Start Station  \\\n",
       "Trip ID                                                                     \n",
       "913465        746  9/1/2015 0:10  San Francisco Caltrain 2 (330 Townsend)   \n",
       "913466        969  9/1/2015 0:15                          Clay at Battery   \n",
       "913467        233  9/1/2015 0:15                         Davis at Jackson   \n",
       "\n",
       "         Start Terminal       End Date               End Station  \\\n",
       "Trip ID                                                            \n",
       "913465               69  9/1/2015 0:23   San Francisco City Hall   \n",
       "913466               41  9/1/2015 0:31      Washington at Kearny   \n",
       "913467               42  9/1/2015 0:19  Commercial at Montgomery   \n",
       "\n",
       "         End Terminal  Bike # Subscriber Type Zip Code  \n",
       "Trip ID                                                 \n",
       "913465             58     238      Subscriber    94107  \n",
       "913466             46      16      Subscriber    94133  \n",
       "913467             45     534      Subscriber    94111  "
      ]
     },
     "execution_count": 14,
     "metadata": {},
     "output_type": "execute_result"
    }
   ],
   "source": [
    "# First make a copy of the mydata data frame as mydata2 using the .copy() method\n",
    "mydata2 = mydata.copy()\n",
    "\n",
    "#Then set the Trip ID as the index using the keys parameter and use .head() to view the results\n",
    "mydata2 = mydata2.set_index(keys = 'Trip ID')\n",
    "mydata2.head(3)"
   ]
  },
  {
   "cell_type": "markdown",
   "metadata": {},
   "source": [
    "<p style=\"text-align:justify\">We can now see that the Trip ID is no longer a column but has taken the pace of our old index. To see the difference in the way the two types of indexes are used, we will look at subsetting. Let's start with the **.iloc[]** which is integer index-based subsetting. So naturally we use our original data frame **mydata**. </p>"
   ]
  },
  {
   "cell_type": "code",
   "execution_count": 15,
   "metadata": {},
   "outputs": [
    {
     "data": {
      "text/html": [
       "<div>\n",
       "<table border=\"1\" class=\"dataframe\">\n",
       "  <thead>\n",
       "    <tr style=\"text-align: right;\">\n",
       "      <th></th>\n",
       "      <th>Trip ID</th>\n",
       "      <th>Duration</th>\n",
       "      <th>Start Date</th>\n",
       "      <th>Start Station</th>\n",
       "      <th>Start Terminal</th>\n",
       "      <th>End Date</th>\n",
       "      <th>End Station</th>\n",
       "      <th>End Terminal</th>\n",
       "      <th>Bike #</th>\n",
       "      <th>Subscriber Type</th>\n",
       "      <th>Zip Code</th>\n",
       "    </tr>\n",
       "  </thead>\n",
       "  <tbody>\n",
       "    <tr>\n",
       "      <th>8</th>\n",
       "      <td>913473</td>\n",
       "      <td>424</td>\n",
       "      <td>9/1/2015 4:23</td>\n",
       "      <td>Market at 10th</td>\n",
       "      <td>67</td>\n",
       "      <td>9/1/2015 4:30</td>\n",
       "      <td>Townsend at 7th</td>\n",
       "      <td>65</td>\n",
       "      <td>259</td>\n",
       "      <td>Subscriber</td>\n",
       "      <td>94102</td>\n",
       "    </tr>\n",
       "    <tr>\n",
       "      <th>9</th>\n",
       "      <td>913474</td>\n",
       "      <td>633</td>\n",
       "      <td>9/1/2015 4:57</td>\n",
       "      <td>Embarcadero at Bryant</td>\n",
       "      <td>54</td>\n",
       "      <td>9/1/2015 5:08</td>\n",
       "      <td>Embarcadero at Sansome</td>\n",
       "      <td>60</td>\n",
       "      <td>613</td>\n",
       "      <td>Subscriber</td>\n",
       "      <td>94105</td>\n",
       "    </tr>\n",
       "    <tr>\n",
       "      <th>10</th>\n",
       "      <td>913475</td>\n",
       "      <td>174</td>\n",
       "      <td>9/1/2015 4:58</td>\n",
       "      <td>2nd at Folsom</td>\n",
       "      <td>62</td>\n",
       "      <td>9/1/2015 5:01</td>\n",
       "      <td>Market at Sansome</td>\n",
       "      <td>77</td>\n",
       "      <td>449</td>\n",
       "      <td>Subscriber</td>\n",
       "      <td>94107</td>\n",
       "    </tr>\n",
       "    <tr>\n",
       "      <th>11</th>\n",
       "      <td>913476</td>\n",
       "      <td>777</td>\n",
       "      <td>9/1/2015 5:02</td>\n",
       "      <td>Davis at Jackson</td>\n",
       "      <td>42</td>\n",
       "      <td>9/1/2015 5:15</td>\n",
       "      <td>San Francisco Caltrain (Townsend at 4th)</td>\n",
       "      <td>70</td>\n",
       "      <td>86</td>\n",
       "      <td>Subscriber</td>\n",
       "      <td>94111</td>\n",
       "    </tr>\n",
       "  </tbody>\n",
       "</table>\n",
       "</div>"
      ],
      "text/plain": [
       "    Trip ID  Duration     Start Date          Start Station  Start Terminal  \\\n",
       "8    913473       424  9/1/2015 4:23         Market at 10th              67   \n",
       "9    913474       633  9/1/2015 4:57  Embarcadero at Bryant              54   \n",
       "10   913475       174  9/1/2015 4:58          2nd at Folsom              62   \n",
       "11   913476       777  9/1/2015 5:02       Davis at Jackson              42   \n",
       "\n",
       "         End Date                               End Station  End Terminal  \\\n",
       "8   9/1/2015 4:30                           Townsend at 7th            65   \n",
       "9   9/1/2015 5:08                    Embarcadero at Sansome            60   \n",
       "10  9/1/2015 5:01                         Market at Sansome            77   \n",
       "11  9/1/2015 5:15  San Francisco Caltrain (Townsend at 4th)            70   \n",
       "\n",
       "    Bike # Subscriber Type Zip Code  \n",
       "8      259      Subscriber    94102  \n",
       "9      613      Subscriber    94105  \n",
       "10     449      Subscriber    94107  \n",
       "11      86      Subscriber    94111  "
      ]
     },
     "execution_count": 15,
     "metadata": {},
     "output_type": "execute_result"
    }
   ],
   "source": [
    "# Let's look at subsetting all entries in mydata from 8 to 11\n",
    "## Note that the ending index in the range is not included so we need to enter it as 12\n",
    "mydata.iloc[8:12]"
   ]
  },
  {
   "cell_type": "code",
   "execution_count": 16,
   "metadata": {
    "scrolled": true
   },
   "outputs": [
    {
     "data": {
      "text/html": [
       "<div>\n",
       "<table border=\"1\" class=\"dataframe\">\n",
       "  <thead>\n",
       "    <tr style=\"text-align: right;\">\n",
       "      <th></th>\n",
       "      <th>Trip ID</th>\n",
       "      <th>Duration</th>\n",
       "      <th>Start Date</th>\n",
       "      <th>Start Station</th>\n",
       "      <th>Start Terminal</th>\n",
       "      <th>End Date</th>\n",
       "      <th>End Station</th>\n",
       "      <th>End Terminal</th>\n",
       "      <th>Bike #</th>\n",
       "      <th>Subscriber Type</th>\n",
       "      <th>Zip Code</th>\n",
       "    </tr>\n",
       "  </thead>\n",
       "  <tbody>\n",
       "    <tr>\n",
       "      <th>1</th>\n",
       "      <td>913466</td>\n",
       "      <td>969</td>\n",
       "      <td>9/1/2015 0:15</td>\n",
       "      <td>Clay at Battery</td>\n",
       "      <td>41</td>\n",
       "      <td>9/1/2015 0:31</td>\n",
       "      <td>Washington at Kearny</td>\n",
       "      <td>46</td>\n",
       "      <td>16</td>\n",
       "      <td>Subscriber</td>\n",
       "      <td>94133</td>\n",
       "    </tr>\n",
       "    <tr>\n",
       "      <th>3</th>\n",
       "      <td>913468</td>\n",
       "      <td>213</td>\n",
       "      <td>9/1/2015 1:29</td>\n",
       "      <td>Clay at Battery</td>\n",
       "      <td>41</td>\n",
       "      <td>9/1/2015 1:32</td>\n",
       "      <td>Steuart at Market</td>\n",
       "      <td>74</td>\n",
       "      <td>312</td>\n",
       "      <td>Subscriber</td>\n",
       "      <td>94107</td>\n",
       "    </tr>\n",
       "    <tr>\n",
       "      <th>5</th>\n",
       "      <td>913470</td>\n",
       "      <td>623</td>\n",
       "      <td>9/1/2015 1:36</td>\n",
       "      <td>San Jose Diridon Caltrain Station</td>\n",
       "      <td>2</td>\n",
       "      <td>9/1/2015 1:47</td>\n",
       "      <td>Japantown</td>\n",
       "      <td>9</td>\n",
       "      <td>261</td>\n",
       "      <td>Subscriber</td>\n",
       "      <td>95112</td>\n",
       "    </tr>\n",
       "  </tbody>\n",
       "</table>\n",
       "</div>"
      ],
      "text/plain": [
       "   Trip ID  Duration     Start Date                      Start Station  \\\n",
       "1   913466       969  9/1/2015 0:15                    Clay at Battery   \n",
       "3   913468       213  9/1/2015 1:29                    Clay at Battery   \n",
       "5   913470       623  9/1/2015 1:36  San Jose Diridon Caltrain Station   \n",
       "\n",
       "   Start Terminal       End Date           End Station  End Terminal  Bike #  \\\n",
       "1              41  9/1/2015 0:31  Washington at Kearny            46      16   \n",
       "3              41  9/1/2015 1:32     Steuart at Market            74     312   \n",
       "5               2  9/1/2015 1:47             Japantown             9     261   \n",
       "\n",
       "  Subscriber Type Zip Code  \n",
       "1      Subscriber    94133  \n",
       "3      Subscriber    94107  \n",
       "5      Subscriber    95112  "
      ]
     },
     "execution_count": 16,
     "metadata": {},
     "output_type": "execute_result"
    }
   ],
   "source": [
    "# Select multiple entries like so\n",
    "mydata.iloc[[1,3,5]]"
   ]
  },
  {
   "cell_type": "markdown",
   "metadata": {},
   "source": [
    "<p style=\"text-align:justify\">What happens if we try specifying an index range that isn't integer-location based? Well you will only get an empty subset like below since you cannot index the data frame using **.iloc[]**</p>"
   ]
  },
  {
   "cell_type": "code",
   "execution_count": 17,
   "metadata": {
    "scrolled": true
   },
   "outputs": [
    {
     "data": {
      "text/html": [
       "<div>\n",
       "<table border=\"1\" class=\"dataframe\">\n",
       "  <thead>\n",
       "    <tr style=\"text-align: right;\">\n",
       "      <th></th>\n",
       "      <th>Trip ID</th>\n",
       "      <th>Duration</th>\n",
       "      <th>Start Date</th>\n",
       "      <th>Start Station</th>\n",
       "      <th>Start Terminal</th>\n",
       "      <th>End Date</th>\n",
       "      <th>End Station</th>\n",
       "      <th>End Terminal</th>\n",
       "      <th>Bike #</th>\n",
       "      <th>Subscriber Type</th>\n",
       "      <th>Zip Code</th>\n",
       "    </tr>\n",
       "  </thead>\n",
       "  <tbody>\n",
       "  </tbody>\n",
       "</table>\n",
       "</div>"
      ],
      "text/plain": [
       "Empty DataFrame\n",
       "Columns: [Trip ID, Duration, Start Date, Start Station, Start Terminal, End Date, End Station, End Terminal, Bike #, Subscriber Type, Zip Code]\n",
       "Index: []"
      ]
     },
     "execution_count": 17,
     "metadata": {},
     "output_type": "execute_result"
    }
   ],
   "source": [
    "mydata.iloc[913465: 913468]"
   ]
  },
  {
   "cell_type": "markdown",
   "metadata": {},
   "source": [
    "Switching over to **.loc[]**, we can now index based on the labels and for this we need to use the **mydata2** data frame."
   ]
  },
  {
   "cell_type": "code",
   "execution_count": 18,
   "metadata": {
    "scrolled": false
   },
   "outputs": [
    {
     "data": {
      "text/html": [
       "<div>\n",
       "<table border=\"1\" class=\"dataframe\">\n",
       "  <thead>\n",
       "    <tr style=\"text-align: right;\">\n",
       "      <th></th>\n",
       "      <th>Duration</th>\n",
       "      <th>Start Date</th>\n",
       "      <th>Start Station</th>\n",
       "      <th>Start Terminal</th>\n",
       "      <th>End Date</th>\n",
       "      <th>End Station</th>\n",
       "      <th>End Terminal</th>\n",
       "      <th>Bike #</th>\n",
       "      <th>Subscriber Type</th>\n",
       "      <th>Zip Code</th>\n",
       "    </tr>\n",
       "    <tr>\n",
       "      <th>Trip ID</th>\n",
       "      <th></th>\n",
       "      <th></th>\n",
       "      <th></th>\n",
       "      <th></th>\n",
       "      <th></th>\n",
       "      <th></th>\n",
       "      <th></th>\n",
       "      <th></th>\n",
       "      <th></th>\n",
       "      <th></th>\n",
       "    </tr>\n",
       "  </thead>\n",
       "  <tbody>\n",
       "    <tr>\n",
       "      <th>913465</th>\n",
       "      <td>746</td>\n",
       "      <td>9/1/2015 0:10</td>\n",
       "      <td>San Francisco Caltrain 2 (330 Townsend)</td>\n",
       "      <td>69</td>\n",
       "      <td>9/1/2015 0:23</td>\n",
       "      <td>San Francisco City Hall</td>\n",
       "      <td>58</td>\n",
       "      <td>238</td>\n",
       "      <td>Subscriber</td>\n",
       "      <td>94107</td>\n",
       "    </tr>\n",
       "    <tr>\n",
       "      <th>913468</th>\n",
       "      <td>213</td>\n",
       "      <td>9/1/2015 1:29</td>\n",
       "      <td>Clay at Battery</td>\n",
       "      <td>41</td>\n",
       "      <td>9/1/2015 1:32</td>\n",
       "      <td>Steuart at Market</td>\n",
       "      <td>74</td>\n",
       "      <td>312</td>\n",
       "      <td>Subscriber</td>\n",
       "      <td>94107</td>\n",
       "    </tr>\n",
       "    <tr>\n",
       "      <th>915765</th>\n",
       "      <td>283</td>\n",
       "      <td>9/2/2015 8:53</td>\n",
       "      <td>Market at Sansome</td>\n",
       "      <td>77</td>\n",
       "      <td>9/2/2015 8:58</td>\n",
       "      <td>2nd at Folsom</td>\n",
       "      <td>62</td>\n",
       "      <td>277</td>\n",
       "      <td>Subscriber</td>\n",
       "      <td>94612</td>\n",
       "    </tr>\n",
       "  </tbody>\n",
       "</table>\n",
       "</div>"
      ],
      "text/plain": [
       "         Duration     Start Date                            Start Station  \\\n",
       "Trip ID                                                                     \n",
       "913465        746  9/1/2015 0:10  San Francisco Caltrain 2 (330 Townsend)   \n",
       "913468        213  9/1/2015 1:29                          Clay at Battery   \n",
       "915765        283  9/2/2015 8:53                        Market at Sansome   \n",
       "\n",
       "         Start Terminal       End Date              End Station  End Terminal  \\\n",
       "Trip ID                                                                         \n",
       "913465               69  9/1/2015 0:23  San Francisco City Hall            58   \n",
       "913468               41  9/1/2015 1:32        Steuart at Market            74   \n",
       "915765               77  9/2/2015 8:58            2nd at Folsom            62   \n",
       "\n",
       "         Bike # Subscriber Type Zip Code  \n",
       "Trip ID                                   \n",
       "913465      238      Subscriber    94107  \n",
       "913468      312      Subscriber    94107  \n",
       "915765      277      Subscriber    94612  "
      ]
     },
     "execution_count": 18,
     "metadata": {},
     "output_type": "execute_result"
    }
   ],
   "source": [
    "mydata2.loc[[913465, 913468, 915765]]"
   ]
  },
  {
   "cell_type": "markdown",
   "metadata": {},
   "source": [
    "And if you want to reset the index back to what it was originally, just use **.reset_index()**."
   ]
  },
  {
   "cell_type": "code",
   "execution_count": 19,
   "metadata": {
    "scrolled": true
   },
   "outputs": [
    {
     "data": {
      "text/html": [
       "<div>\n",
       "<table border=\"1\" class=\"dataframe\">\n",
       "  <thead>\n",
       "    <tr style=\"text-align: right;\">\n",
       "      <th></th>\n",
       "      <th>Trip ID</th>\n",
       "      <th>Duration</th>\n",
       "      <th>Start Date</th>\n",
       "      <th>Start Station</th>\n",
       "      <th>Start Terminal</th>\n",
       "      <th>End Date</th>\n",
       "      <th>End Station</th>\n",
       "      <th>End Terminal</th>\n",
       "      <th>Bike #</th>\n",
       "      <th>Subscriber Type</th>\n",
       "      <th>Zip Code</th>\n",
       "    </tr>\n",
       "  </thead>\n",
       "  <tbody>\n",
       "    <tr>\n",
       "      <th>0</th>\n",
       "      <td>913465</td>\n",
       "      <td>746</td>\n",
       "      <td>9/1/2015 0:10</td>\n",
       "      <td>San Francisco Caltrain 2 (330 Townsend)</td>\n",
       "      <td>69</td>\n",
       "      <td>9/1/2015 0:23</td>\n",
       "      <td>San Francisco City Hall</td>\n",
       "      <td>58</td>\n",
       "      <td>238</td>\n",
       "      <td>Subscriber</td>\n",
       "      <td>94107</td>\n",
       "    </tr>\n",
       "    <tr>\n",
       "      <th>1</th>\n",
       "      <td>913466</td>\n",
       "      <td>969</td>\n",
       "      <td>9/1/2015 0:15</td>\n",
       "      <td>Clay at Battery</td>\n",
       "      <td>41</td>\n",
       "      <td>9/1/2015 0:31</td>\n",
       "      <td>Washington at Kearny</td>\n",
       "      <td>46</td>\n",
       "      <td>16</td>\n",
       "      <td>Subscriber</td>\n",
       "      <td>94133</td>\n",
       "    </tr>\n",
       "  </tbody>\n",
       "</table>\n",
       "</div>"
      ],
      "text/plain": [
       "   Trip ID  Duration     Start Date                            Start Station  \\\n",
       "0   913465       746  9/1/2015 0:10  San Francisco Caltrain 2 (330 Townsend)   \n",
       "1   913466       969  9/1/2015 0:15                          Clay at Battery   \n",
       "\n",
       "   Start Terminal       End Date              End Station  End Terminal  \\\n",
       "0              69  9/1/2015 0:23  San Francisco City Hall            58   \n",
       "1              41  9/1/2015 0:31     Washington at Kearny            46   \n",
       "\n",
       "   Bike # Subscriber Type Zip Code  \n",
       "0     238      Subscriber    94107  \n",
       "1      16      Subscriber    94133  "
      ]
     },
     "execution_count": 19,
     "metadata": {},
     "output_type": "execute_result"
    }
   ],
   "source": [
    "mydata2 = mydata2.reset_index()\n",
    "mydata2.head(2)"
   ]
  },
  {
   "cell_type": "markdown",
   "metadata": {},
   "source": [
    "<h2>Groups and Operations</h2>\n",
    "\n",
    "<p style=\"text-align:justify\">Often time in data analysis you will want to perform some mathematical operations on groups based on some labels from the data set. In pandas, **.groupby()** allows you to perform such grouping operations on your data frame. Let's try out some of these operations on the **[Automobile](https://archive.ics.uci.edu/ml/machine-learning-databases/autos/)** dataset from the UCI Machine Learning Repository. Using the link download the **imports-85.data**, rename it with a **.txt** file extension. I've already created a list below with the names of the columns so follow the steps below to read the data into a data frame with the column names. Now assume that you are a car dealer and this particular data set contains data about the inventory of cars that you hold at your dealership. Let's find out some of the type of questions that pandas can help you answer about your cars.</p>\n",
    "\n",
    "<p style=\"text-align:justify\">First use **pd.read_csv()** to read in the **imports-85.txt**. Note that I've specified the **na_values** parameter equal to **?**. This is to convert all the **?** (which I found during some prelimnary analysis) values to **NA**. After reading it in as the **auto** data frame, get some information about the file using **.info()**.</p>"
   ]
  },
  {
   "cell_type": "code",
   "execution_count": 20,
   "metadata": {},
   "outputs": [],
   "source": [
    "## Column hearders for our data set\n",
    "names_cars = ['symboling','losses','make','type','aspiration','doors','style','wheels','location','base','length','width','height','curb-weight','engine-type',\n",
    " 'num-of-cylinders','engine-size','fuel-system','bore','stroke','compression-ratio','horsepower','peak-rpm','city-mpg','highway-mpg','price']\n",
    "\n",
    "## Read in the text file as a data frame\n",
    "# We use 'na_values' parameter here to define all occurences of '?' in the file as na values\n",
    "auto = pd.read_csv('imports-85.txt', sep = ',', names = names_cars, na_values = '?')\n"
   ]
  },
  {
   "cell_type": "code",
   "execution_count": 21,
   "metadata": {
    "scrolled": true
   },
   "outputs": [
    {
     "name": "stdout",
     "output_type": "stream",
     "text": [
      "<class 'pandas.core.frame.DataFrame'>\n",
      "RangeIndex: 205 entries, 0 to 204\n",
      "Data columns (total 26 columns):\n",
      "symboling            205 non-null int64\n",
      "losses               164 non-null float64\n",
      "make                 205 non-null object\n",
      "type                 205 non-null object\n",
      "aspiration           205 non-null object\n",
      "doors                203 non-null object\n",
      "style                205 non-null object\n",
      "wheels               205 non-null object\n",
      "location             205 non-null object\n",
      "base                 205 non-null float64\n",
      "length               205 non-null float64\n",
      "width                205 non-null float64\n",
      "height               205 non-null float64\n",
      "curb-weight          205 non-null int64\n",
      "engine-type          205 non-null object\n",
      "num-of-cylinders     205 non-null object\n",
      "engine-size          205 non-null int64\n",
      "fuel-system          205 non-null object\n",
      "bore                 201 non-null float64\n",
      "stroke               201 non-null float64\n",
      "compression-ratio    205 non-null float64\n",
      "horsepower           203 non-null float64\n",
      "peak-rpm             203 non-null float64\n",
      "city-mpg             205 non-null int64\n",
      "highway-mpg          205 non-null int64\n",
      "price                201 non-null float64\n",
      "dtypes: float64(11), int64(5), object(10)\n",
      "memory usage: 41.7+ KB\n"
     ]
    }
   ],
   "source": [
    "## Get a summary of the data frame, we can see that there are a few na values\n",
    "auto.info()"
   ]
  },
  {
   "cell_type": "markdown",
   "metadata": {},
   "source": [
    "<p style=\"text-align:justify\">Some quick observations- you see that there are 26 columns with 205 entries in each. Many columns have NA values. We don't want to include them in our calculations as we perform operations so we use **.dropna()** to delete all rows that contain **NA** values in any of their columns. In the parameters, **axis = 0** means that we want to delete any columns that have **NA** values in them.</p>\n",
    "\n",
    "<p style=\"text-align:justify\">Since we mess up our index due to many rows being deleted, let's use **.reset_index()** to reset our index and reassign it to our data frame **auto**. Make sure you specify the parameter **drop = True** so that you delete the old index instead of making it a new column. Check to make sure all this works. You should be able to see that the index starts from 0 again.</p>"
   ]
  },
  {
   "cell_type": "code",
   "execution_count": 22,
   "metadata": {
    "scrolled": true
   },
   "outputs": [
    {
     "data": {
      "text/html": [
       "<div>\n",
       "<table border=\"1\" class=\"dataframe\">\n",
       "  <thead>\n",
       "    <tr style=\"text-align: right;\">\n",
       "      <th></th>\n",
       "      <th>symboling</th>\n",
       "      <th>losses</th>\n",
       "      <th>make</th>\n",
       "      <th>type</th>\n",
       "      <th>aspiration</th>\n",
       "      <th>doors</th>\n",
       "      <th>style</th>\n",
       "      <th>wheels</th>\n",
       "      <th>location</th>\n",
       "      <th>base</th>\n",
       "      <th>...</th>\n",
       "      <th>engine-size</th>\n",
       "      <th>fuel-system</th>\n",
       "      <th>bore</th>\n",
       "      <th>stroke</th>\n",
       "      <th>compression-ratio</th>\n",
       "      <th>horsepower</th>\n",
       "      <th>peak-rpm</th>\n",
       "      <th>city-mpg</th>\n",
       "      <th>highway-mpg</th>\n",
       "      <th>price</th>\n",
       "    </tr>\n",
       "  </thead>\n",
       "  <tbody>\n",
       "    <tr>\n",
       "      <th>0</th>\n",
       "      <td>2</td>\n",
       "      <td>164.0</td>\n",
       "      <td>audi</td>\n",
       "      <td>gas</td>\n",
       "      <td>std</td>\n",
       "      <td>four</td>\n",
       "      <td>sedan</td>\n",
       "      <td>fwd</td>\n",
       "      <td>front</td>\n",
       "      <td>99.8</td>\n",
       "      <td>...</td>\n",
       "      <td>109</td>\n",
       "      <td>mpfi</td>\n",
       "      <td>3.19</td>\n",
       "      <td>3.4</td>\n",
       "      <td>10.0</td>\n",
       "      <td>102.0</td>\n",
       "      <td>5500.0</td>\n",
       "      <td>24</td>\n",
       "      <td>30</td>\n",
       "      <td>13950.0</td>\n",
       "    </tr>\n",
       "    <tr>\n",
       "      <th>1</th>\n",
       "      <td>2</td>\n",
       "      <td>164.0</td>\n",
       "      <td>audi</td>\n",
       "      <td>gas</td>\n",
       "      <td>std</td>\n",
       "      <td>four</td>\n",
       "      <td>sedan</td>\n",
       "      <td>4wd</td>\n",
       "      <td>front</td>\n",
       "      <td>99.4</td>\n",
       "      <td>...</td>\n",
       "      <td>136</td>\n",
       "      <td>mpfi</td>\n",
       "      <td>3.19</td>\n",
       "      <td>3.4</td>\n",
       "      <td>8.0</td>\n",
       "      <td>115.0</td>\n",
       "      <td>5500.0</td>\n",
       "      <td>18</td>\n",
       "      <td>22</td>\n",
       "      <td>17450.0</td>\n",
       "    </tr>\n",
       "    <tr>\n",
       "      <th>2</th>\n",
       "      <td>1</td>\n",
       "      <td>158.0</td>\n",
       "      <td>audi</td>\n",
       "      <td>gas</td>\n",
       "      <td>std</td>\n",
       "      <td>four</td>\n",
       "      <td>sedan</td>\n",
       "      <td>fwd</td>\n",
       "      <td>front</td>\n",
       "      <td>105.8</td>\n",
       "      <td>...</td>\n",
       "      <td>136</td>\n",
       "      <td>mpfi</td>\n",
       "      <td>3.19</td>\n",
       "      <td>3.4</td>\n",
       "      <td>8.5</td>\n",
       "      <td>110.0</td>\n",
       "      <td>5500.0</td>\n",
       "      <td>19</td>\n",
       "      <td>25</td>\n",
       "      <td>17710.0</td>\n",
       "    </tr>\n",
       "    <tr>\n",
       "      <th>3</th>\n",
       "      <td>1</td>\n",
       "      <td>158.0</td>\n",
       "      <td>audi</td>\n",
       "      <td>gas</td>\n",
       "      <td>turbo</td>\n",
       "      <td>four</td>\n",
       "      <td>sedan</td>\n",
       "      <td>fwd</td>\n",
       "      <td>front</td>\n",
       "      <td>105.8</td>\n",
       "      <td>...</td>\n",
       "      <td>131</td>\n",
       "      <td>mpfi</td>\n",
       "      <td>3.13</td>\n",
       "      <td>3.4</td>\n",
       "      <td>8.3</td>\n",
       "      <td>140.0</td>\n",
       "      <td>5500.0</td>\n",
       "      <td>17</td>\n",
       "      <td>20</td>\n",
       "      <td>23875.0</td>\n",
       "    </tr>\n",
       "    <tr>\n",
       "      <th>4</th>\n",
       "      <td>2</td>\n",
       "      <td>192.0</td>\n",
       "      <td>bmw</td>\n",
       "      <td>gas</td>\n",
       "      <td>std</td>\n",
       "      <td>two</td>\n",
       "      <td>sedan</td>\n",
       "      <td>rwd</td>\n",
       "      <td>front</td>\n",
       "      <td>101.2</td>\n",
       "      <td>...</td>\n",
       "      <td>108</td>\n",
       "      <td>mpfi</td>\n",
       "      <td>3.50</td>\n",
       "      <td>2.8</td>\n",
       "      <td>8.8</td>\n",
       "      <td>101.0</td>\n",
       "      <td>5800.0</td>\n",
       "      <td>23</td>\n",
       "      <td>29</td>\n",
       "      <td>16430.0</td>\n",
       "    </tr>\n",
       "  </tbody>\n",
       "</table>\n",
       "<p>5 rows × 26 columns</p>\n",
       "</div>"
      ],
      "text/plain": [
       "   symboling  losses  make type aspiration doors  style wheels location  \\\n",
       "0          2   164.0  audi  gas        std  four  sedan    fwd    front   \n",
       "1          2   164.0  audi  gas        std  four  sedan    4wd    front   \n",
       "2          1   158.0  audi  gas        std  four  sedan    fwd    front   \n",
       "3          1   158.0  audi  gas      turbo  four  sedan    fwd    front   \n",
       "4          2   192.0   bmw  gas        std   two  sedan    rwd    front   \n",
       "\n",
       "    base   ...     engine-size  fuel-system  bore  stroke compression-ratio  \\\n",
       "0   99.8   ...             109         mpfi  3.19     3.4              10.0   \n",
       "1   99.4   ...             136         mpfi  3.19     3.4               8.0   \n",
       "2  105.8   ...             136         mpfi  3.19     3.4               8.5   \n",
       "3  105.8   ...             131         mpfi  3.13     3.4               8.3   \n",
       "4  101.2   ...             108         mpfi  3.50     2.8               8.8   \n",
       "\n",
       "  horsepower  peak-rpm city-mpg  highway-mpg    price  \n",
       "0      102.0    5500.0       24           30  13950.0  \n",
       "1      115.0    5500.0       18           22  17450.0  \n",
       "2      110.0    5500.0       19           25  17710.0  \n",
       "3      140.0    5500.0       17           20  23875.0  \n",
       "4      101.0    5800.0       23           29  16430.0  \n",
       "\n",
       "[5 rows x 26 columns]"
      ]
     },
     "execution_count": 22,
     "metadata": {},
     "output_type": "execute_result"
    }
   ],
   "source": [
    "## Drop the rows with any na values and then reset idex\n",
    "auto = auto.dropna(axis = 0)\n",
    "auto = auto.reset_index(drop = True) #specify drop = True so that the old index isn't made into a column\n",
    "auto.head()"
   ]
  },
  {
   "cell_type": "markdown",
   "metadata": {},
   "source": [
    "<p style=\"text-align:justify\">As the head of the dealership, you want to quickly look at what type of cars you have and how many of each make. How would you go about this? You can use **.value_counts()** on the data frame's **make** column. This groups the **make** Series by the unique values it has and also counts the occurence of each value. You see that Toyota bags the top spot with 31 cars followed by Nissan with 18 and in third place comes Honda with 13 cars. You're hungry for more insights and you script on!</p>"
   ]
  },
  {
   "cell_type": "code",
   "execution_count": 23,
   "metadata": {
    "scrolled": true
   },
   "outputs": [
    {
     "data": {
      "text/plain": [
       "toyota           31\n",
       "nissan           18\n",
       "honda            13\n",
       "subaru           12\n",
       "mazda            11\n",
       "volvo            11\n",
       "mitsubishi       10\n",
       "volkswagen        8\n",
       "dodge             8\n",
       "peugot            7\n",
       "plymouth          6\n",
       "saab              6\n",
       "mercedes-benz     5\n",
       "bmw               4\n",
       "audi              4\n",
       "chevrolet         3\n",
       "porsche           1\n",
       "jaguar            1\n",
       "Name: make, dtype: int64"
      ]
     },
     "execution_count": 23,
     "metadata": {},
     "output_type": "execute_result"
    }
   ],
   "source": [
    "## How many of each cars do you have?\n",
    "auto['make'].value_counts()"
   ]
  },
  {
   "cell_type": "markdown",
   "metadata": {},
   "source": [
    "<p style=\"text-align:justify\">Suppose you want to categorize the cars in your inventory based on the make of the car and look at the total worth of each of these categories, you use **.groupby()**. specify **make** within the parenthesis to group the cars by make and then subset the resulting object based on the **price** column. What you get is a groupby object.</p>"
   ]
  },
  {
   "cell_type": "code",
   "execution_count": 24,
   "metadata": {},
   "outputs": [
    {
     "data": {
      "text/plain": [
       "<pandas.core.groupby.SeriesGroupBy object at 0x112b955d0>"
      ]
     },
     "execution_count": 24,
     "metadata": {},
     "output_type": "execute_result"
    }
   ],
   "source": [
    "## How do we use groupby?\n",
    "auto.groupby('make')['price']"
   ]
  },
  {
   "cell_type": "markdown",
   "metadata": {},
   "source": [
    "<p style=\"text-align:justify\">Now let's move ahead to perform the summation operation on this object. Essentially, you have to use **.sum()** at the end of the object like shown below and then you will see the total price of all cars categorized by their make. Use **.sort_values(ascending = False)** to see which categorize fall in the top. You notice that although you have more cars in some categories, the make of the car influences the total price.</p>"
   ]
  },
  {
   "cell_type": "code",
   "execution_count": 25,
   "metadata": {
    "scrolled": true
   },
   "outputs": [
    {
     "data": {
      "text/plain": [
       "make\n",
       "toyota           300596.0\n",
       "volvo            198695.0\n",
       "nissan           187482.0\n",
       "mercedes-benz    148632.0\n",
       "peugot           110310.0\n",
       "honda            106401.0\n",
       "subaru           102495.0\n",
       "mazda             99880.0\n",
       "saab              91340.0\n",
       "mitsubishi        78130.0\n",
       "bmw               75430.0\n",
       "audi              72985.0\n",
       "volkswagen        69905.0\n",
       "dodge             62321.0\n",
       "plymouth          42980.0\n",
       "jaguar            32250.0\n",
       "porsche           22018.0\n",
       "chevrolet         18021.0\n",
       "Name: price, dtype: float64"
      ]
     },
     "execution_count": 25,
     "metadata": {},
     "output_type": "execute_result"
    }
   ],
   "source": [
    "##What is the total price of your inventory per make?\n",
    "auto.groupby('make')['price'].sum().sort_values(ascending = False)"
   ]
  },
  {
   "cell_type": "markdown",
   "metadata": {},
   "source": [
    "<p style=\"text-align:justify\">Well, making a plot will make it easier for you to communicate it to others in your dealership. So let's use **.plot()** from the **matplotlib** library. The parameters for the plot function here are **kind = 'bar'** to specify the plot to be a bar plot, **rot = 75** makes the lables in the x- axis to be rotated to 75 degrees so they're easier to read and **figsize = (10,5)** specifies the dimensions of the plot. We will start using plot more often to see the results of the operations on the groupby objects.</p>"
   ]
  },
  {
   "cell_type": "code",
   "execution_count": 26,
   "metadata": {
    "scrolled": true
   },
   "outputs": [
    {
     "data": {
      "text/plain": [
       "<matplotlib.axes._subplots.AxesSubplot at 0x112b8ec50>"
      ]
     },
     "execution_count": 26,
     "metadata": {},
     "output_type": "execute_result"
    },
    {
     "data": {
      "image/png": "[encoded data removed]",
      "text/plain": [
       "<matplotlib.figure.Figure at 0x112b8e310>"
      ]
     },
     "metadata": {},
     "output_type": "display_data"
    }
   ],
   "source": [
    "## Now let's plot this visually using the plot() method that is from matplotlib\n",
    "auto.groupby('make')['price'].sum().plot(kind = 'bar', rot = 75, figsize = (10,5))"
   ]
  },
  {
   "cell_type": "markdown",
   "metadata": {},
   "source": [
    "If you want to find the number of unique values in a column then I use **.nunique()**. For example, you group the cars by their style and then subset it by the **make** column to create your groupby object to which you apply **.nunique()** to get the count of unique car makers that are present in each style segment."
   ]
  },
  {
   "cell_type": "code",
   "execution_count": 58,
   "metadata": {},
   "outputs": [
    {
     "data": {
      "text/plain": [
       "style\n",
       "convertible     2\n",
       "hardtop         3\n",
       "hatchback      12\n",
       "sedan          17\n",
       "wagon           8\n",
       "Name: make, dtype: int64"
      ]
     },
     "execution_count": 58,
     "metadata": {},
     "output_type": "execute_result"
    }
   ],
   "source": [
    "auto.groupby('style')['make'].nunique()"
   ]
  },
  {
   "cell_type": "markdown",
   "metadata": {},
   "source": [
    "<p style=\"text-align:justify\">Remember **.describe()** that we used earlier to get some basic statistics about our data frame? Well we can use it on a groupby object as well. So in this case you want to get some basic statistics of your cars' miles per gallon in the city grouped by the type of fuel that their engines combust. Like earlier, you use **.groupby** to first create a groupby object, subset it based on the **city-mpg** column and then perform the **.describe()** operation on it. You see that your cars that run on diesel are on average more fuel efficient than those that run on gas. It is however important to note here that you have way more cars in your inventory that run on gas than on diesel so this might be affecting your statistics.</p>"
   ]
  },
  {
   "cell_type": "code",
   "execution_count": 27,
   "metadata": {
    "scrolled": false
   },
   "outputs": [
    {
     "data": {
      "text/plain": [
       "type         \n",
       "diesel  count     15.000000\n",
       "        mean      30.400000\n",
       "        std        7.238784\n",
       "        min       22.000000\n",
       "        25%       24.000000\n",
       "        50%       28.000000\n",
       "        75%       37.000000\n",
       "        max       45.000000\n",
       "gas     count    144.000000\n",
       "        mean      26.118056\n",
       "        std        5.848312\n",
       "        min       15.000000\n",
       "        25%       23.000000\n",
       "        50%       26.000000\n",
       "        75%       31.000000\n",
       "        max       49.000000\n",
       "Name: city-mpg, dtype: float64"
      ]
     },
     "execution_count": 27,
     "metadata": {},
     "output_type": "execute_result"
    }
   ],
   "source": [
    "## Descriptive statistics of the mpg\n",
    "auto.groupby('type')['city-mpg'].describe()"
   ]
  },
  {
   "cell_type": "markdown",
   "metadata": {},
   "source": [
    "<p style=\"text-align:justify\">Similarly, you can use **.mean()** to find the mean of values in the groups that you create. Like shwon beloew, you can use it to plot which car make has the highest mean prices. This is again depends on the number of cars in each category but you can see that Jaguar, Mercedez-Benz and Porsche clinch the top three spots accordingly.</p>"
   ]
  },
  {
   "cell_type": "code",
   "execution_count": 28,
   "metadata": {
    "scrolled": true
   },
   "outputs": [
    {
     "data": {
      "text/plain": [
       "<matplotlib.axes._subplots.AxesSubplot at 0x112bac190>"
      ]
     },
     "execution_count": 28,
     "metadata": {},
     "output_type": "execute_result"
    },
    {
     "data": {
      "image/png": "[encoded data removed]",
      "text/plain": [
       "<matplotlib.figure.Figure at 0x112932510>"
      ]
     },
     "metadata": {},
     "output_type": "display_data"
    }
   ],
   "source": [
    "#Mean price across all makes\n",
    "auto.groupby('make')['price'].mean().sort_values(ascending = False).plot(kind = 'bar', rot = 75, figsize = (10,5))"
   ]
  },
  {
   "cell_type": "markdown",
   "metadata": {},
   "source": [
    "<p style=\"text-align:justify\">You can also group by two columns by passing a list with the column names as parameters in **.groupby()**. Like shown below we've used this style of grouping to compute the mean price of cars grouped first by their make and then by the style.</p>"
   ]
  },
  {
   "cell_type": "code",
   "execution_count": 29,
   "metadata": {
    "scrolled": true
   },
   "outputs": [
    {
     "data": {
      "text/plain": [
       "make           style      \n",
       "audi           sedan          18246.250000\n",
       "bmw            sedan          18857.500000\n",
       "chevrolet      hatchback       5723.000000\n",
       "               sedan           6575.000000\n",
       "dodge          hatchback       7819.800000\n",
       "               sedan           7150.500000\n",
       "               wagon           8921.000000\n",
       "honda          hatchback       7054.428571\n",
       "               sedan           9945.000000\n",
       "               wagon           7295.000000\n",
       "jaguar         sedan          32250.000000\n",
       "mazda          hatchback       8128.333333\n",
       "               sedan          10222.000000\n",
       "mercedes-benz  convertible    35056.000000\n",
       "               hardtop        28176.000000\n",
       "               sedan          28576.000000\n",
       "               wagon          28248.000000\n",
       "mitsubishi     hatchback       7399.000000\n",
       "               sedan           8434.000000\n",
       "nissan         hardtop         8249.000000\n",
       "               hatchback      14409.000000\n",
       "               sedan           8604.555556\n",
       "               wagon           9915.666667\n",
       "peugot         sedan          15758.571429\n",
       "plymouth       hatchback       6586.000000\n",
       "               sedan           7150.500000\n",
       "               wagon           8921.000000\n",
       "porsche        hatchback      22018.000000\n",
       "saab           hatchback      15013.333333\n",
       "               sedan          15433.333333\n",
       "subaru         hatchback       6591.333333\n",
       "               sedan           9070.600000\n",
       "               wagon           9342.000000\n",
       "toyota         convertible    17669.000000\n",
       "               hardtop         9762.333333\n",
       "               hatchback       9616.000000\n",
       "               sedan           9542.200000\n",
       "               wagon           7864.666667\n",
       "volkswagen     hatchback       9980.000000\n",
       "               sedan           8560.714286\n",
       "volvo          sedan          18726.875000\n",
       "               wagon          16293.333333\n",
       "Name: price, dtype: float64"
      ]
     },
     "execution_count": 29,
     "metadata": {},
     "output_type": "execute_result"
    }
   ],
   "source": [
    "auto.groupby(['make', 'style'])['price'].mean()"
   ]
  },
  {
   "cell_type": "markdown",
   "metadata": {},
   "source": [
    "<p style=\"text-align:justify\">Suppose you would like to compare the avegrage miles per gallon values both in the city and on the highway for the cars grouped by their style, simple create the groupby object and then subset it based on both the **city-mpg** and **highway-mpg** column and then plot it to get a nice visual like below.</p>"
   ]
  },
  {
   "cell_type": "code",
   "execution_count": 30,
   "metadata": {
    "scrolled": true
   },
   "outputs": [
    {
     "data": {
      "text/plain": [
       "<matplotlib.axes._subplots.AxesSubplot at 0x113c4f590>"
      ]
     },
     "execution_count": 30,
     "metadata": {},
     "output_type": "execute_result"
    },
    {
     "data": {
      "image/png": "[encoded data removed]",
      "text/plain": [
       "<matplotlib.figure.Figure at 0x112bca390>"
      ]
     },
     "metadata": {},
     "output_type": "display_data"
    }
   ],
   "source": [
    "##For each make, howw does the mean city mpg compare to the mean high-way mpg?\n",
    "auto.groupby('style')['city-mpg', 'highway-mpg'].mean().plot(kind = 'bar', rot = 75, figsize = (15,5))"
   ]
  },
  {
   "cell_type": "markdown",
   "metadata": {
    "collapsed": true
   },
   "source": [
    "<h2>Aggregation</h2>\n",
    "\n",
    "<p style=\"text-align:justify\">Lastly, let's explore aggregation which allows you to compute mulitple statistics for columns in your groupby object through the **.agg()** function. The parameter this function takes in a python dictionary that contains the columns to compute staistics on and the operation to be performed. \n",
    "\n",
    "Say you wanted to create a report on the mean price of each car categorizes by their make and also the total number of cars in each category. You first create the dictionary with the **price** key to signify that you want operations to be performed on the **price** column and then define its value as **mean** which referes to the mean operation to be performed on that column. Similarly, you create another key, **make** referring to the **make** column and the value is **count** to find the total cars in each.</p>"
   ]
  },
  {
   "cell_type": "code",
   "execution_count": 38,
   "metadata": {
    "scrolled": true
   },
   "outputs": [
    {
     "data": {
      "text/html": [
       "<div>\n",
       "<table border=\"1\" class=\"dataframe\">\n",
       "  <thead>\n",
       "    <tr style=\"text-align: right;\">\n",
       "      <th></th>\n",
       "      <th>price</th>\n",
       "      <th>make</th>\n",
       "    </tr>\n",
       "    <tr>\n",
       "      <th>make</th>\n",
       "      <th></th>\n",
       "      <th></th>\n",
       "    </tr>\n",
       "  </thead>\n",
       "  <tbody>\n",
       "    <tr>\n",
       "      <th>audi</th>\n",
       "      <td>18246.250000</td>\n",
       "      <td>4</td>\n",
       "    </tr>\n",
       "    <tr>\n",
       "      <th>bmw</th>\n",
       "      <td>18857.500000</td>\n",
       "      <td>4</td>\n",
       "    </tr>\n",
       "    <tr>\n",
       "      <th>chevrolet</th>\n",
       "      <td>6007.000000</td>\n",
       "      <td>3</td>\n",
       "    </tr>\n",
       "    <tr>\n",
       "      <th>dodge</th>\n",
       "      <td>7790.125000</td>\n",
       "      <td>8</td>\n",
       "    </tr>\n",
       "    <tr>\n",
       "      <th>honda</th>\n",
       "      <td>8184.692308</td>\n",
       "      <td>13</td>\n",
       "    </tr>\n",
       "    <tr>\n",
       "      <th>jaguar</th>\n",
       "      <td>32250.000000</td>\n",
       "      <td>1</td>\n",
       "    </tr>\n",
       "    <tr>\n",
       "      <th>mazda</th>\n",
       "      <td>9080.000000</td>\n",
       "      <td>11</td>\n",
       "    </tr>\n",
       "    <tr>\n",
       "      <th>mercedes-benz</th>\n",
       "      <td>29726.400000</td>\n",
       "      <td>5</td>\n",
       "    </tr>\n",
       "    <tr>\n",
       "      <th>mitsubishi</th>\n",
       "      <td>7813.000000</td>\n",
       "      <td>10</td>\n",
       "    </tr>\n",
       "    <tr>\n",
       "      <th>nissan</th>\n",
       "      <td>10415.666667</td>\n",
       "      <td>18</td>\n",
       "    </tr>\n",
       "    <tr>\n",
       "      <th>peugot</th>\n",
       "      <td>15758.571429</td>\n",
       "      <td>7</td>\n",
       "    </tr>\n",
       "    <tr>\n",
       "      <th>plymouth</th>\n",
       "      <td>7163.333333</td>\n",
       "      <td>6</td>\n",
       "    </tr>\n",
       "    <tr>\n",
       "      <th>porsche</th>\n",
       "      <td>22018.000000</td>\n",
       "      <td>1</td>\n",
       "    </tr>\n",
       "    <tr>\n",
       "      <th>saab</th>\n",
       "      <td>15223.333333</td>\n",
       "      <td>6</td>\n",
       "    </tr>\n",
       "    <tr>\n",
       "      <th>subaru</th>\n",
       "      <td>8541.250000</td>\n",
       "      <td>12</td>\n",
       "    </tr>\n",
       "    <tr>\n",
       "      <th>toyota</th>\n",
       "      <td>9696.645161</td>\n",
       "      <td>31</td>\n",
       "    </tr>\n",
       "    <tr>\n",
       "      <th>volkswagen</th>\n",
       "      <td>8738.125000</td>\n",
       "      <td>8</td>\n",
       "    </tr>\n",
       "    <tr>\n",
       "      <th>volvo</th>\n",
       "      <td>18063.181818</td>\n",
       "      <td>11</td>\n",
       "    </tr>\n",
       "  </tbody>\n",
       "</table>\n",
       "</div>"
      ],
      "text/plain": [
       "                      price  make\n",
       "make                             \n",
       "audi           18246.250000     4\n",
       "bmw            18857.500000     4\n",
       "chevrolet       6007.000000     3\n",
       "dodge           7790.125000     8\n",
       "honda           8184.692308    13\n",
       "jaguar         32250.000000     1\n",
       "mazda           9080.000000    11\n",
       "mercedes-benz  29726.400000     5\n",
       "mitsubishi      7813.000000    10\n",
       "nissan         10415.666667    18\n",
       "peugot         15758.571429     7\n",
       "plymouth        7163.333333     6\n",
       "porsche        22018.000000     1\n",
       "saab           15223.333333     6\n",
       "subaru          8541.250000    12\n",
       "toyota          9696.645161    31\n",
       "volkswagen      8738.125000     8\n",
       "volvo          18063.181818    11"
      ]
     },
     "execution_count": 38,
     "metadata": {},
     "output_type": "execute_result"
    }
   ],
   "source": [
    "ops = { 'price': 'mean',\n",
    "        'make': 'count'}\n",
    "auto.groupby('make').agg(ops)"
   ]
  },
  {
   "cell_type": "markdown",
   "metadata": {},
   "source": [
    "<p style=\"text-align:justify\">But really, you want this to be more clean in terms of naming the new columns that you have created. And if you also want to compute multiple statistics per column, then we must pass a nested dictionary as the parameter.</p>"
   ]
  },
  {
   "cell_type": "code",
   "execution_count": 53,
   "metadata": {
    "scrolled": true
   },
   "outputs": [
    {
     "data": {
      "text/html": [
       "<div>\n",
       "<table border=\"1\" class=\"dataframe\">\n",
       "  <thead>\n",
       "    <tr>\n",
       "      <th></th>\n",
       "      <th colspan=\"3\" halign=\"left\">horsepower</th>\n",
       "      <th colspan=\"3\" halign=\"left\">price</th>\n",
       "    </tr>\n",
       "    <tr>\n",
       "      <th></th>\n",
       "      <th>mean_bhp</th>\n",
       "      <th>min_bhp</th>\n",
       "      <th>max_bhp</th>\n",
       "      <th>min_price</th>\n",
       "      <th>max_price</th>\n",
       "      <th>avg_price</th>\n",
       "    </tr>\n",
       "    <tr>\n",
       "      <th>make</th>\n",
       "      <th></th>\n",
       "      <th></th>\n",
       "      <th></th>\n",
       "      <th></th>\n",
       "      <th></th>\n",
       "      <th></th>\n",
       "    </tr>\n",
       "  </thead>\n",
       "  <tbody>\n",
       "    <tr>\n",
       "      <th>audi</th>\n",
       "      <td>116.750000</td>\n",
       "      <td>102.0</td>\n",
       "      <td>140.0</td>\n",
       "      <td>13950.0</td>\n",
       "      <td>23875.0</td>\n",
       "      <td>18246.250000</td>\n",
       "    </tr>\n",
       "    <tr>\n",
       "      <th>bmw</th>\n",
       "      <td>111.000000</td>\n",
       "      <td>101.0</td>\n",
       "      <td>121.0</td>\n",
       "      <td>16430.0</td>\n",
       "      <td>21105.0</td>\n",
       "      <td>18857.500000</td>\n",
       "    </tr>\n",
       "    <tr>\n",
       "      <th>chevrolet</th>\n",
       "      <td>62.666667</td>\n",
       "      <td>48.0</td>\n",
       "      <td>70.0</td>\n",
       "      <td>5151.0</td>\n",
       "      <td>6575.0</td>\n",
       "      <td>6007.000000</td>\n",
       "    </tr>\n",
       "    <tr>\n",
       "      <th>dodge</th>\n",
       "      <td>84.375000</td>\n",
       "      <td>68.0</td>\n",
       "      <td>145.0</td>\n",
       "      <td>5572.0</td>\n",
       "      <td>12964.0</td>\n",
       "      <td>7790.125000</td>\n",
       "    </tr>\n",
       "    <tr>\n",
       "      <th>honda</th>\n",
       "      <td>80.230769</td>\n",
       "      <td>58.0</td>\n",
       "      <td>101.0</td>\n",
       "      <td>5399.0</td>\n",
       "      <td>12945.0</td>\n",
       "      <td>8184.692308</td>\n",
       "    </tr>\n",
       "    <tr>\n",
       "      <th>jaguar</th>\n",
       "      <td>176.000000</td>\n",
       "      <td>176.0</td>\n",
       "      <td>176.0</td>\n",
       "      <td>32250.0</td>\n",
       "      <td>32250.0</td>\n",
       "      <td>32250.000000</td>\n",
       "    </tr>\n",
       "    <tr>\n",
       "      <th>mazda</th>\n",
       "      <td>80.000000</td>\n",
       "      <td>68.0</td>\n",
       "      <td>120.0</td>\n",
       "      <td>5195.0</td>\n",
       "      <td>18280.0</td>\n",
       "      <td>9080.000000</td>\n",
       "    </tr>\n",
       "    <tr>\n",
       "      <th>mercedes-benz</th>\n",
       "      <td>129.400000</td>\n",
       "      <td>123.0</td>\n",
       "      <td>155.0</td>\n",
       "      <td>25552.0</td>\n",
       "      <td>35056.0</td>\n",
       "      <td>29726.400000</td>\n",
       "    </tr>\n",
       "    <tr>\n",
       "      <th>mitsubishi</th>\n",
       "      <td>91.800000</td>\n",
       "      <td>68.0</td>\n",
       "      <td>116.0</td>\n",
       "      <td>5389.0</td>\n",
       "      <td>9959.0</td>\n",
       "      <td>7813.000000</td>\n",
       "    </tr>\n",
       "    <tr>\n",
       "      <th>nissan</th>\n",
       "      <td>102.555556</td>\n",
       "      <td>55.0</td>\n",
       "      <td>200.0</td>\n",
       "      <td>5499.0</td>\n",
       "      <td>19699.0</td>\n",
       "      <td>10415.666667</td>\n",
       "    </tr>\n",
       "    <tr>\n",
       "      <th>peugot</th>\n",
       "      <td>102.285714</td>\n",
       "      <td>95.0</td>\n",
       "      <td>142.0</td>\n",
       "      <td>11900.0</td>\n",
       "      <td>18150.0</td>\n",
       "      <td>15758.571429</td>\n",
       "    </tr>\n",
       "    <tr>\n",
       "      <th>plymouth</th>\n",
       "      <td>77.000000</td>\n",
       "      <td>68.0</td>\n",
       "      <td>102.0</td>\n",
       "      <td>5572.0</td>\n",
       "      <td>8921.0</td>\n",
       "      <td>7163.333333</td>\n",
       "    </tr>\n",
       "    <tr>\n",
       "      <th>porsche</th>\n",
       "      <td>143.000000</td>\n",
       "      <td>143.0</td>\n",
       "      <td>143.0</td>\n",
       "      <td>22018.0</td>\n",
       "      <td>22018.0</td>\n",
       "      <td>22018.000000</td>\n",
       "    </tr>\n",
       "    <tr>\n",
       "      <th>saab</th>\n",
       "      <td>126.666667</td>\n",
       "      <td>110.0</td>\n",
       "      <td>160.0</td>\n",
       "      <td>11850.0</td>\n",
       "      <td>18620.0</td>\n",
       "      <td>15223.333333</td>\n",
       "    </tr>\n",
       "    <tr>\n",
       "      <th>subaru</th>\n",
       "      <td>86.250000</td>\n",
       "      <td>69.0</td>\n",
       "      <td>111.0</td>\n",
       "      <td>5118.0</td>\n",
       "      <td>11694.0</td>\n",
       "      <td>8541.250000</td>\n",
       "    </tr>\n",
       "    <tr>\n",
       "      <th>toyota</th>\n",
       "      <td>90.741935</td>\n",
       "      <td>56.0</td>\n",
       "      <td>161.0</td>\n",
       "      <td>5348.0</td>\n",
       "      <td>17669.0</td>\n",
       "      <td>9696.645161</td>\n",
       "    </tr>\n",
       "    <tr>\n",
       "      <th>volkswagen</th>\n",
       "      <td>77.125000</td>\n",
       "      <td>52.0</td>\n",
       "      <td>100.0</td>\n",
       "      <td>7775.0</td>\n",
       "      <td>9995.0</td>\n",
       "      <td>8738.125000</td>\n",
       "    </tr>\n",
       "    <tr>\n",
       "      <th>volvo</th>\n",
       "      <td>128.000000</td>\n",
       "      <td>106.0</td>\n",
       "      <td>162.0</td>\n",
       "      <td>12940.0</td>\n",
       "      <td>22625.0</td>\n",
       "      <td>18063.181818</td>\n",
       "    </tr>\n",
       "  </tbody>\n",
       "</table>\n",
       "</div>"
      ],
      "text/plain": [
       "               horsepower                     price                        \n",
       "                 mean_bhp min_bhp max_bhp min_price max_price     avg_price\n",
       "make                                                                       \n",
       "audi           116.750000   102.0   140.0   13950.0   23875.0  18246.250000\n",
       "bmw            111.000000   101.0   121.0   16430.0   21105.0  18857.500000\n",
       "chevrolet       62.666667    48.0    70.0    5151.0    6575.0   6007.000000\n",
       "dodge           84.375000    68.0   145.0    5572.0   12964.0   7790.125000\n",
       "honda           80.230769    58.0   101.0    5399.0   12945.0   8184.692308\n",
       "jaguar         176.000000   176.0   176.0   32250.0   32250.0  32250.000000\n",
       "mazda           80.000000    68.0   120.0    5195.0   18280.0   9080.000000\n",
       "mercedes-benz  129.400000   123.0   155.0   25552.0   35056.0  29726.400000\n",
       "mitsubishi      91.800000    68.0   116.0    5389.0    9959.0   7813.000000\n",
       "nissan         102.555556    55.0   200.0    5499.0   19699.0  10415.666667\n",
       "peugot         102.285714    95.0   142.0   11900.0   18150.0  15758.571429\n",
       "plymouth        77.000000    68.0   102.0    5572.0    8921.0   7163.333333\n",
       "porsche        143.000000   143.0   143.0   22018.0   22018.0  22018.000000\n",
       "saab           126.666667   110.0   160.0   11850.0   18620.0  15223.333333\n",
       "subaru          86.250000    69.0   111.0    5118.0   11694.0   8541.250000\n",
       "toyota          90.741935    56.0   161.0    5348.0   17669.0   9696.645161\n",
       "volkswagen      77.125000    52.0   100.0    7775.0    9995.0   8738.125000\n",
       "volvo          128.000000   106.0   162.0   12940.0   22625.0  18063.181818"
      ]
     },
     "execution_count": 53,
     "metadata": {},
     "output_type": "execute_result"
    }
   ],
   "source": [
    "ops = { 'price': { 'max_price': 'max',\n",
    "                    'min_price': 'min',\n",
    "                     'avg_price': 'mean'},\n",
    "        'horsepower': { 'max_bhp': 'max', \n",
    "                        'min_bhp': 'min',\n",
    "                        'mean_bhp': 'mean'}\n",
    "      }\n",
    "auto.groupby('make').agg(ops)"
   ]
  },
  {
   "cell_type": "markdown",
   "metadata": {},
   "source": [
    "<p style=\"text-align:justify\">So there you have it, a quick introduction to some very useful operations using python pandas. If you are new to pandas, I hope this has sparked your curiosity to learn more about it and if you're already familiar with using pandas, I hope that you've enjoyed my take on using pandas. Either way please leave questions and/ or comments. I will be back with more posts very soon!</p>"
   ]
  },
  {
   "cell_type": "markdown",
   "metadata": {},
   "source": [
    "<h2>References</h2>\n",
    "<p style=\"text-align:justify\">My inspiration for these posts came from a couple of other blogs that I have been reading. I encourage you to also chceck out the following posts that talk about pandas:</p>\n",
    "\n",
    "* [Greg Reda's pandas tutorial](http://www.gregreda.com/2013/10/26/working-with-pandas-dataframes/)\n",
    "* [Chris Moffit's pandas pivot table tutorial](http://pbpython.com/pandas-pivot-table-explained.html)\n",
    "* [Chris Albon's pandas group operations tutorial](https://chrisalbon.com/python/pandas_apply_operations_to_groups.html)\n",
    "* [Shane Lynn's tutorial on pandas grouping & aggregation](http://www.shanelynn.ie/summarising-aggregation-and-grouping-data-in-python-pandas/)"
   ]
  }
 ],
 "metadata": {
  "anaconda-cloud": {},
  "kernelspec": {
   "display_name": "Python 3",
   "language": "python",
   "name": "python3"
  },
  "language_info": {
   "codemirror_mode": {
    "name": "ipython",
    "version": 3
   },
   "file_extension": ".py",
   "mimetype": "text/x-python",
   "name": "python",
   "nbconvert_exporter": "python",
   "pygments_lexer": "ipython3",
   "version": "3.6.1"
  }
 },
 "nbformat": 4,
 "nbformat_minor": 1
}
